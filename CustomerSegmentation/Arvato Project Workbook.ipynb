{
 "cells": [
  {
   "cell_type": "markdown",
   "metadata": {},
   "source": [
    "# Capstone Project: Create a Customer Segmentation Report for Arvato Financial Services\n",
    "\n",
    "In this project, you will analyze demographics data for customers of a mail-order sales company in Germany, comparing it against demographics information for the general population. You'll use unsupervised learning techniques to perform customer segmentation, identifying the parts of the population that best describe the core customer base of the company. Then, you'll apply what you've learned on a third dataset with demographics information for targets of a marketing campaign for the company, and use a model to predict which individuals are most likely to convert into becoming customers for the company. The data that you will use has been provided by our partners at Bertelsmann Arvato Analytics, and represents a real-life data science task.\n",
    "\n",
    "If you completed the first term of this program, you will be familiar with the first part of this project, from the unsupervised learning project. The versions of those two datasets used in this project will include many more features and has not been pre-cleaned. You are also free to choose whatever approach you'd like to analyzing the data rather than follow pre-determined steps. In your work on this project, make sure that you carefully document your steps and decisions, since your main deliverable for this project will be a blog post reporting your findings."
   ]
  },
  {
   "cell_type": "code",
   "execution_count": 28,
   "metadata": {},
   "outputs": [],
   "source": [
    "# import libraries here; add more as necessary\n",
    "import numpy as np\n",
    "import pandas as pd\n",
    "import matplotlib.pyplot as plt\n",
    "import seaborn as sns\n",
    "import collections\n",
    "\n",
    "from sklearn.decomposition import PCA\n",
    "from sklearn.preprocessing import StandardScaler, Imputer\n",
    "from sklearn.ensemble import RandomForestClassifier, GradientBoostingClassifier\n",
    "from sklearn.model_selection import train_test_split\n",
    "from sklearn.metrics import confusion_matrix, accuracy_score, roc_auc_score\n",
    "from IPython import display\n",
    "from sklearn.cluster import KMeans\n",
    "from sklearn.model_selection import GridSearchCV\n",
    "\n",
    "# some help functions are contained in workspace_utils for proprietery protection, which include:\n",
    "# clean_data(df)\n",
    "# clean_data_svl(df)\n",
    "# pca_results(full_dataset, pca, n_comp)\n",
    "import workspace_utils \n",
    "# magic word for producing visualizations in notebook\n",
    "%matplotlib inline"
   ]
  },
  {
   "cell_type": "code",
   "execution_count": null,
   "metadata": {},
   "outputs": [],
   "source": [
    "!pip install xgboost\n",
    "import xgboost as xgb"
   ]
  },
  {
   "cell_type": "markdown",
   "metadata": {},
   "source": [
    "## Part 0: Get to Know the Data\n",
    "\n",
    "There are four data files associated with this project:\n",
    "\n",
    "- `Udacity_AZDIAS_052018.csv`: Demographics data for the general population of Germany; 891 211 persons (rows) x 366 features (columns).\n",
    "- `Udacity_CUSTOMERS_052018.csv`: Demographics data for customers of a mail-order company; 191 652 persons (rows) x 369 features (columns).\n",
    "- `Udacity_MAILOUT_052018_TRAIN.csv`: Demographics data for individuals who were targets of a marketing campaign; 42 982 persons (rows) x 367 (columns).\n",
    "- `Udacity_MAILOUT_052018_TEST.csv`: Demographics data for individuals who were targets of a marketing campaign; 42 833 persons (rows) x 366 (columns).\n",
    "\n",
    "Each row of the demographics files represents a single person, but also includes information outside of individuals, including information about their household, building, and neighborhood. Use the information from the first two files to figure out how customers (\"CUSTOMERS\") are similar to or differ from the general population at large (\"AZDIAS\"), then use your analysis to make predictions on the other two files (\"MAILOUT\"), predicting which recipients are most likely to become a customer for the mail-order company.\n",
    "\n",
    "The \"CUSTOMERS\" file contains three extra columns ('CUSTOMER_GROUP', 'ONLINE_PURCHASE', and 'PRODUCT_GROUP'), which provide broad information about the customers depicted in the file. The original \"MAILOUT\" file included one additional column, \"RESPONSE\", which indicated whether or not each recipient became a customer of the company. For the \"TRAIN\" subset, this column has been retained, but in the \"TEST\" subset it has been removed; it is against that withheld column that your final predictions will be assessed in the Kaggle competition.\n",
    "\n",
    "Otherwise, all of the remaining columns are the same between the three data files. For more information about the columns depicted in the files, you can refer to two Excel spreadsheets provided in the workspace. [One of them](./DIAS Information Levels - Attributes 2017.xlsx) is a top-level list of attributes and descriptions, organized by informational category. [The other](./DIAS Attributes - Values 2017.xlsx) is a detailed mapping of data values for each feature in alphabetical order.\n",
    "\n",
    "In the below cell, we've provided some initial code to load in the first two datasets. Note for all of the `.csv` data files in this project that they're semicolon (`;`) delimited, so an additional argument in the [`read_csv()`](https://pandas.pydata.org/pandas-docs/stable/generated/pandas.read_csv.html) call has been included to read in the data properly. Also, considering the size of the datasets, it may take some time for them to load completely.\n",
    "\n",
    "You'll notice when the data is loaded in that a warning message will immediately pop up. Before you really start digging into the modeling and analysis, you're going to need to perform some cleaning. Take some time to browse the structure of the data and look over the informational spreadsheets to understand the data values. Make some decisions on which features to keep, which features to drop, and if any revisions need to be made on data formats. It'll be a good idea to create a function with pre-processing steps, since you'll need to clean all of the datasets before you work with them."
   ]
  },
  {
   "cell_type": "markdown",
   "metadata": {},
   "source": [
    "### Part 0.1: Load the Data and View the Data"
   ]
  },
  {
   "cell_type": "code",
   "execution_count": 2,
   "metadata": {},
   "outputs": [
    {
     "name": "stderr",
     "output_type": "stream",
     "text": [
      "/opt/conda/lib/python3.6/site-packages/IPython/core/interactiveshell.py:2785: DtypeWarning: Columns (18,19) have mixed types. Specify dtype option on import or set low_memory=False.\n",
      "  interactivity=interactivity, compiler=compiler, result=result)\n"
     ]
    }
   ],
   "source": [
    "# load in the data\n",
    "azdias = pd.read_csv('../../data/Term2/capstone/arvato_data/Udacity_AZDIAS_052018.csv', sep=';')\n",
    "customers = pd.read_csv('../../data/Term2/capstone/arvato_data/Udacity_CUSTOMERS_052018.csv', sep=';')"
   ]
  },
  {
   "cell_type": "code",
   "execution_count": 3,
   "metadata": {},
   "outputs": [],
   "source": [
    "azdias_backup = azdias\n",
    "customers_backup = customers"
   ]
  },
  {
   "cell_type": "code",
   "execution_count": 4,
   "metadata": {},
   "outputs": [
    {
     "name": "stdout",
     "output_type": "stream",
     "text": [
      "Size of Azidas dataset is: (891221, 366)\n",
      "Size of customer dataset is: (191652, 369)\n"
     ]
    }
   ],
   "source": [
    "# Be sure to add in a lot more cells (both markdown and code) to document your\n",
    "# approach and findings!\n",
    "print('Size of Azidas dataset is:',azdias.shape)\n",
    "print('Size of customer dataset is:',customers.shape)"
   ]
  },
  {
   "cell_type": "code",
   "execution_count": 5,
   "metadata": {},
   "outputs": [
    {
     "name": "stdout",
     "output_type": "stream",
     "text": [
      "{'ONLINE_PURCHASE', 'PRODUCT_GROUP', 'CUSTOMER_GROUP'}\n"
     ]
    }
   ],
   "source": [
    "customers_additional_features = set(customers_backup.columns.tolist()) - set(azdias_backup.columns.tolist())\n",
    "print(customers_additional_features)\n",
    "customers.drop(columns=customers_additional_features, axis=1, inplace=True)"
   ]
  },
  {
   "cell_type": "code",
   "execution_count": 8,
   "metadata": {},
   "outputs": [
    {
     "data": {
      "text/html": [
       "<div>\n",
       "<style scoped>\n",
       "    .dataframe tbody tr th:only-of-type {\n",
       "        vertical-align: middle;\n",
       "    }\n",
       "\n",
       "    .dataframe tbody tr th {\n",
       "        vertical-align: top;\n",
       "    }\n",
       "\n",
       "    .dataframe thead th {\n",
       "        text-align: right;\n",
       "    }\n",
       "</style>\n",
       "<table border=\"1\" class=\"dataframe\">\n",
       "  <thead>\n",
       "    <tr style=\"text-align: right;\">\n",
       "      <th></th>\n",
       "      <th>LNR</th>\n",
       "      <th>AGER_TYP</th>\n",
       "      <th>AKT_DAT_KL</th>\n",
       "      <th>ALTER_HH</th>\n",
       "      <th>ALTER_KIND1</th>\n",
       "      <th>ALTER_KIND2</th>\n",
       "      <th>ALTER_KIND3</th>\n",
       "      <th>ALTER_KIND4</th>\n",
       "      <th>ALTERSKATEGORIE_FEIN</th>\n",
       "      <th>ANZ_HAUSHALTE_AKTIV</th>\n",
       "      <th>...</th>\n",
       "      <th>VHN</th>\n",
       "      <th>VK_DHT4A</th>\n",
       "      <th>VK_DISTANZ</th>\n",
       "      <th>VK_ZG11</th>\n",
       "      <th>W_KEIT_KIND_HH</th>\n",
       "      <th>WOHNDAUER_2008</th>\n",
       "      <th>WOHNLAGE</th>\n",
       "      <th>ZABEOTYP</th>\n",
       "      <th>ANREDE_KZ</th>\n",
       "      <th>ALTERSKATEGORIE_GROB</th>\n",
       "    </tr>\n",
       "  </thead>\n",
       "  <tbody>\n",
       "    <tr>\n",
       "      <th>175243</th>\n",
       "      <td>555813</td>\n",
       "      <td>2</td>\n",
       "      <td>2.0</td>\n",
       "      <td>12.0</td>\n",
       "      <td>NaN</td>\n",
       "      <td>NaN</td>\n",
       "      <td>NaN</td>\n",
       "      <td>NaN</td>\n",
       "      <td>12.0</td>\n",
       "      <td>2.0</td>\n",
       "      <td>...</td>\n",
       "      <td>2.0</td>\n",
       "      <td>3.0</td>\n",
       "      <td>6.0</td>\n",
       "      <td>7.0</td>\n",
       "      <td>6.0</td>\n",
       "      <td>9.0</td>\n",
       "      <td>3.0</td>\n",
       "      <td>3</td>\n",
       "      <td>2</td>\n",
       "      <td>4</td>\n",
       "    </tr>\n",
       "    <tr>\n",
       "      <th>818638</th>\n",
       "      <td>749335</td>\n",
       "      <td>-1</td>\n",
       "      <td>9.0</td>\n",
       "      <td>0.0</td>\n",
       "      <td>NaN</td>\n",
       "      <td>NaN</td>\n",
       "      <td>NaN</td>\n",
       "      <td>NaN</td>\n",
       "      <td>NaN</td>\n",
       "      <td>8.0</td>\n",
       "      <td>...</td>\n",
       "      <td>1.0</td>\n",
       "      <td>8.0</td>\n",
       "      <td>11.0</td>\n",
       "      <td>8.0</td>\n",
       "      <td>6.0</td>\n",
       "      <td>9.0</td>\n",
       "      <td>3.0</td>\n",
       "      <td>3</td>\n",
       "      <td>1</td>\n",
       "      <td>4</td>\n",
       "    </tr>\n",
       "    <tr>\n",
       "      <th>174695</th>\n",
       "      <td>502890</td>\n",
       "      <td>-1</td>\n",
       "      <td>NaN</td>\n",
       "      <td>NaN</td>\n",
       "      <td>NaN</td>\n",
       "      <td>NaN</td>\n",
       "      <td>NaN</td>\n",
       "      <td>NaN</td>\n",
       "      <td>NaN</td>\n",
       "      <td>NaN</td>\n",
       "      <td>...</td>\n",
       "      <td>NaN</td>\n",
       "      <td>NaN</td>\n",
       "      <td>NaN</td>\n",
       "      <td>NaN</td>\n",
       "      <td>NaN</td>\n",
       "      <td>NaN</td>\n",
       "      <td>NaN</td>\n",
       "      <td>3</td>\n",
       "      <td>1</td>\n",
       "      <td>3</td>\n",
       "    </tr>\n",
       "    <tr>\n",
       "      <th>346465</th>\n",
       "      <td>457522</td>\n",
       "      <td>2</td>\n",
       "      <td>1.0</td>\n",
       "      <td>10.0</td>\n",
       "      <td>NaN</td>\n",
       "      <td>NaN</td>\n",
       "      <td>NaN</td>\n",
       "      <td>NaN</td>\n",
       "      <td>10.0</td>\n",
       "      <td>3.0</td>\n",
       "      <td>...</td>\n",
       "      <td>2.0</td>\n",
       "      <td>9.0</td>\n",
       "      <td>7.0</td>\n",
       "      <td>4.0</td>\n",
       "      <td>6.0</td>\n",
       "      <td>9.0</td>\n",
       "      <td>3.0</td>\n",
       "      <td>3</td>\n",
       "      <td>2</td>\n",
       "      <td>4</td>\n",
       "    </tr>\n",
       "    <tr>\n",
       "      <th>120093</th>\n",
       "      <td>393165</td>\n",
       "      <td>-1</td>\n",
       "      <td>1.0</td>\n",
       "      <td>0.0</td>\n",
       "      <td>NaN</td>\n",
       "      <td>NaN</td>\n",
       "      <td>NaN</td>\n",
       "      <td>NaN</td>\n",
       "      <td>NaN</td>\n",
       "      <td>1.0</td>\n",
       "      <td>...</td>\n",
       "      <td>3.0</td>\n",
       "      <td>6.0</td>\n",
       "      <td>9.0</td>\n",
       "      <td>8.0</td>\n",
       "      <td>6.0</td>\n",
       "      <td>4.0</td>\n",
       "      <td>2.0</td>\n",
       "      <td>1</td>\n",
       "      <td>1</td>\n",
       "      <td>1</td>\n",
       "    </tr>\n",
       "    <tr>\n",
       "      <th>386781</th>\n",
       "      <td>605582</td>\n",
       "      <td>-1</td>\n",
       "      <td>9.0</td>\n",
       "      <td>20.0</td>\n",
       "      <td>NaN</td>\n",
       "      <td>NaN</td>\n",
       "      <td>NaN</td>\n",
       "      <td>NaN</td>\n",
       "      <td>20.0</td>\n",
       "      <td>8.0</td>\n",
       "      <td>...</td>\n",
       "      <td>2.0</td>\n",
       "      <td>6.0</td>\n",
       "      <td>9.0</td>\n",
       "      <td>9.0</td>\n",
       "      <td>6.0</td>\n",
       "      <td>4.0</td>\n",
       "      <td>3.0</td>\n",
       "      <td>1</td>\n",
       "      <td>1</td>\n",
       "      <td>1</td>\n",
       "    </tr>\n",
       "    <tr>\n",
       "      <th>583943</th>\n",
       "      <td>600171</td>\n",
       "      <td>-1</td>\n",
       "      <td>1.0</td>\n",
       "      <td>15.0</td>\n",
       "      <td>NaN</td>\n",
       "      <td>NaN</td>\n",
       "      <td>NaN</td>\n",
       "      <td>NaN</td>\n",
       "      <td>0.0</td>\n",
       "      <td>1.0</td>\n",
       "      <td>...</td>\n",
       "      <td>1.0</td>\n",
       "      <td>7.0</td>\n",
       "      <td>7.0</td>\n",
       "      <td>4.0</td>\n",
       "      <td>4.0</td>\n",
       "      <td>9.0</td>\n",
       "      <td>7.0</td>\n",
       "      <td>3</td>\n",
       "      <td>2</td>\n",
       "      <td>4</td>\n",
       "    </tr>\n",
       "    <tr>\n",
       "      <th>793940</th>\n",
       "      <td>398004</td>\n",
       "      <td>1</td>\n",
       "      <td>2.0</td>\n",
       "      <td>17.0</td>\n",
       "      <td>16.0</td>\n",
       "      <td>NaN</td>\n",
       "      <td>NaN</td>\n",
       "      <td>NaN</td>\n",
       "      <td>11.0</td>\n",
       "      <td>1.0</td>\n",
       "      <td>...</td>\n",
       "      <td>1.0</td>\n",
       "      <td>2.0</td>\n",
       "      <td>4.0</td>\n",
       "      <td>3.0</td>\n",
       "      <td>1.0</td>\n",
       "      <td>9.0</td>\n",
       "      <td>3.0</td>\n",
       "      <td>4</td>\n",
       "      <td>1</td>\n",
       "      <td>4</td>\n",
       "    </tr>\n",
       "    <tr>\n",
       "      <th>157633</th>\n",
       "      <td>669344</td>\n",
       "      <td>-1</td>\n",
       "      <td>9.0</td>\n",
       "      <td>16.0</td>\n",
       "      <td>NaN</td>\n",
       "      <td>NaN</td>\n",
       "      <td>NaN</td>\n",
       "      <td>NaN</td>\n",
       "      <td>16.0</td>\n",
       "      <td>10.0</td>\n",
       "      <td>...</td>\n",
       "      <td>2.0</td>\n",
       "      <td>10.0</td>\n",
       "      <td>11.0</td>\n",
       "      <td>8.0</td>\n",
       "      <td>5.0</td>\n",
       "      <td>9.0</td>\n",
       "      <td>3.0</td>\n",
       "      <td>6</td>\n",
       "      <td>1</td>\n",
       "      <td>3</td>\n",
       "    </tr>\n",
       "    <tr>\n",
       "      <th>850202</th>\n",
       "      <td>520371</td>\n",
       "      <td>2</td>\n",
       "      <td>1.0</td>\n",
       "      <td>12.0</td>\n",
       "      <td>NaN</td>\n",
       "      <td>NaN</td>\n",
       "      <td>NaN</td>\n",
       "      <td>NaN</td>\n",
       "      <td>11.0</td>\n",
       "      <td>1.0</td>\n",
       "      <td>...</td>\n",
       "      <td>4.0</td>\n",
       "      <td>8.0</td>\n",
       "      <td>9.0</td>\n",
       "      <td>6.0</td>\n",
       "      <td>6.0</td>\n",
       "      <td>9.0</td>\n",
       "      <td>3.0</td>\n",
       "      <td>3</td>\n",
       "      <td>1</td>\n",
       "      <td>3</td>\n",
       "    </tr>\n",
       "  </tbody>\n",
       "</table>\n",
       "<p>10 rows × 366 columns</p>\n",
       "</div>"
      ],
      "text/plain": [
       "           LNR  AGER_TYP  AKT_DAT_KL  ALTER_HH  ALTER_KIND1  ALTER_KIND2  \\\n",
       "175243  555813         2         2.0      12.0          NaN          NaN   \n",
       "818638  749335        -1         9.0       0.0          NaN          NaN   \n",
       "174695  502890        -1         NaN       NaN          NaN          NaN   \n",
       "346465  457522         2         1.0      10.0          NaN          NaN   \n",
       "120093  393165        -1         1.0       0.0          NaN          NaN   \n",
       "386781  605582        -1         9.0      20.0          NaN          NaN   \n",
       "583943  600171        -1         1.0      15.0          NaN          NaN   \n",
       "793940  398004         1         2.0      17.0         16.0          NaN   \n",
       "157633  669344        -1         9.0      16.0          NaN          NaN   \n",
       "850202  520371         2         1.0      12.0          NaN          NaN   \n",
       "\n",
       "        ALTER_KIND3  ALTER_KIND4  ALTERSKATEGORIE_FEIN  ANZ_HAUSHALTE_AKTIV  \\\n",
       "175243          NaN          NaN                  12.0                  2.0   \n",
       "818638          NaN          NaN                   NaN                  8.0   \n",
       "174695          NaN          NaN                   NaN                  NaN   \n",
       "346465          NaN          NaN                  10.0                  3.0   \n",
       "120093          NaN          NaN                   NaN                  1.0   \n",
       "386781          NaN          NaN                  20.0                  8.0   \n",
       "583943          NaN          NaN                   0.0                  1.0   \n",
       "793940          NaN          NaN                  11.0                  1.0   \n",
       "157633          NaN          NaN                  16.0                 10.0   \n",
       "850202          NaN          NaN                  11.0                  1.0   \n",
       "\n",
       "               ...           VHN  VK_DHT4A  VK_DISTANZ  VK_ZG11  \\\n",
       "175243         ...           2.0       3.0         6.0      7.0   \n",
       "818638         ...           1.0       8.0        11.0      8.0   \n",
       "174695         ...           NaN       NaN         NaN      NaN   \n",
       "346465         ...           2.0       9.0         7.0      4.0   \n",
       "120093         ...           3.0       6.0         9.0      8.0   \n",
       "386781         ...           2.0       6.0         9.0      9.0   \n",
       "583943         ...           1.0       7.0         7.0      4.0   \n",
       "793940         ...           1.0       2.0         4.0      3.0   \n",
       "157633         ...           2.0      10.0        11.0      8.0   \n",
       "850202         ...           4.0       8.0         9.0      6.0   \n",
       "\n",
       "        W_KEIT_KIND_HH  WOHNDAUER_2008  WOHNLAGE ZABEOTYP ANREDE_KZ  \\\n",
       "175243             6.0             9.0       3.0        3         2   \n",
       "818638             6.0             9.0       3.0        3         1   \n",
       "174695             NaN             NaN       NaN        3         1   \n",
       "346465             6.0             9.0       3.0        3         2   \n",
       "120093             6.0             4.0       2.0        1         1   \n",
       "386781             6.0             4.0       3.0        1         1   \n",
       "583943             4.0             9.0       7.0        3         2   \n",
       "793940             1.0             9.0       3.0        4         1   \n",
       "157633             5.0             9.0       3.0        6         1   \n",
       "850202             6.0             9.0       3.0        3         1   \n",
       "\n",
       "       ALTERSKATEGORIE_GROB  \n",
       "175243                    4  \n",
       "818638                    4  \n",
       "174695                    3  \n",
       "346465                    4  \n",
       "120093                    1  \n",
       "386781                    1  \n",
       "583943                    4  \n",
       "793940                    4  \n",
       "157633                    3  \n",
       "850202                    3  \n",
       "\n",
       "[10 rows x 366 columns]"
      ]
     },
     "execution_count": 8,
     "metadata": {},
     "output_type": "execute_result"
    }
   ],
   "source": [
    "azdias.sample(10)"
   ]
  },
  {
   "cell_type": "code",
   "execution_count": 9,
   "metadata": {},
   "outputs": [
    {
     "data": {
      "text/html": [
       "<div>\n",
       "<style scoped>\n",
       "    .dataframe tbody tr th:only-of-type {\n",
       "        vertical-align: middle;\n",
       "    }\n",
       "\n",
       "    .dataframe tbody tr th {\n",
       "        vertical-align: top;\n",
       "    }\n",
       "\n",
       "    .dataframe thead th {\n",
       "        text-align: right;\n",
       "    }\n",
       "</style>\n",
       "<table border=\"1\" class=\"dataframe\">\n",
       "  <thead>\n",
       "    <tr style=\"text-align: right;\">\n",
       "      <th></th>\n",
       "      <th>LNR</th>\n",
       "      <th>AGER_TYP</th>\n",
       "      <th>AKT_DAT_KL</th>\n",
       "      <th>ALTER_HH</th>\n",
       "      <th>ALTER_KIND1</th>\n",
       "      <th>ALTER_KIND2</th>\n",
       "      <th>ALTER_KIND3</th>\n",
       "      <th>ALTER_KIND4</th>\n",
       "      <th>ALTERSKATEGORIE_FEIN</th>\n",
       "      <th>ANZ_HAUSHALTE_AKTIV</th>\n",
       "      <th>...</th>\n",
       "      <th>VHN</th>\n",
       "      <th>VK_DHT4A</th>\n",
       "      <th>VK_DISTANZ</th>\n",
       "      <th>VK_ZG11</th>\n",
       "      <th>W_KEIT_KIND_HH</th>\n",
       "      <th>WOHNDAUER_2008</th>\n",
       "      <th>WOHNLAGE</th>\n",
       "      <th>ZABEOTYP</th>\n",
       "      <th>ANREDE_KZ</th>\n",
       "      <th>ALTERSKATEGORIE_GROB</th>\n",
       "    </tr>\n",
       "  </thead>\n",
       "  <tbody>\n",
       "    <tr>\n",
       "      <th>127279</th>\n",
       "      <td>4648</td>\n",
       "      <td>1</td>\n",
       "      <td>1.0</td>\n",
       "      <td>19.0</td>\n",
       "      <td>NaN</td>\n",
       "      <td>NaN</td>\n",
       "      <td>NaN</td>\n",
       "      <td>NaN</td>\n",
       "      <td>12.0</td>\n",
       "      <td>2.0</td>\n",
       "      <td>...</td>\n",
       "      <td>2.0</td>\n",
       "      <td>1.0</td>\n",
       "      <td>1.0</td>\n",
       "      <td>1.0</td>\n",
       "      <td>3.0</td>\n",
       "      <td>9.0</td>\n",
       "      <td>7.0</td>\n",
       "      <td>4</td>\n",
       "      <td>1</td>\n",
       "      <td>4</td>\n",
       "    </tr>\n",
       "    <tr>\n",
       "      <th>166587</th>\n",
       "      <td>163828</td>\n",
       "      <td>1</td>\n",
       "      <td>1.0</td>\n",
       "      <td>17.0</td>\n",
       "      <td>NaN</td>\n",
       "      <td>NaN</td>\n",
       "      <td>NaN</td>\n",
       "      <td>NaN</td>\n",
       "      <td>11.0</td>\n",
       "      <td>1.0</td>\n",
       "      <td>...</td>\n",
       "      <td>3.0</td>\n",
       "      <td>2.0</td>\n",
       "      <td>4.0</td>\n",
       "      <td>2.0</td>\n",
       "      <td>2.0</td>\n",
       "      <td>9.0</td>\n",
       "      <td>2.0</td>\n",
       "      <td>1</td>\n",
       "      <td>1</td>\n",
       "      <td>4</td>\n",
       "    </tr>\n",
       "    <tr>\n",
       "      <th>53173</th>\n",
       "      <td>118518</td>\n",
       "      <td>-1</td>\n",
       "      <td>1.0</td>\n",
       "      <td>21.0</td>\n",
       "      <td>NaN</td>\n",
       "      <td>NaN</td>\n",
       "      <td>NaN</td>\n",
       "      <td>NaN</td>\n",
       "      <td>24.0</td>\n",
       "      <td>1.0</td>\n",
       "      <td>...</td>\n",
       "      <td>0.0</td>\n",
       "      <td>2.0</td>\n",
       "      <td>4.0</td>\n",
       "      <td>2.0</td>\n",
       "      <td>1.0</td>\n",
       "      <td>9.0</td>\n",
       "      <td>7.0</td>\n",
       "      <td>1</td>\n",
       "      <td>1</td>\n",
       "      <td>4</td>\n",
       "    </tr>\n",
       "    <tr>\n",
       "      <th>53445</th>\n",
       "      <td>146279</td>\n",
       "      <td>-1</td>\n",
       "      <td>1.0</td>\n",
       "      <td>0.0</td>\n",
       "      <td>NaN</td>\n",
       "      <td>NaN</td>\n",
       "      <td>NaN</td>\n",
       "      <td>NaN</td>\n",
       "      <td>NaN</td>\n",
       "      <td>11.0</td>\n",
       "      <td>...</td>\n",
       "      <td>4.0</td>\n",
       "      <td>2.0</td>\n",
       "      <td>1.0</td>\n",
       "      <td>1.0</td>\n",
       "      <td>6.0</td>\n",
       "      <td>3.0</td>\n",
       "      <td>4.0</td>\n",
       "      <td>3</td>\n",
       "      <td>1</td>\n",
       "      <td>4</td>\n",
       "    </tr>\n",
       "    <tr>\n",
       "      <th>2232</th>\n",
       "      <td>58952</td>\n",
       "      <td>3</td>\n",
       "      <td>1.0</td>\n",
       "      <td>17.0</td>\n",
       "      <td>NaN</td>\n",
       "      <td>NaN</td>\n",
       "      <td>NaN</td>\n",
       "      <td>NaN</td>\n",
       "      <td>9.0</td>\n",
       "      <td>1.0</td>\n",
       "      <td>...</td>\n",
       "      <td>2.0</td>\n",
       "      <td>3.0</td>\n",
       "      <td>3.0</td>\n",
       "      <td>2.0</td>\n",
       "      <td>2.0</td>\n",
       "      <td>9.0</td>\n",
       "      <td>1.0</td>\n",
       "      <td>1</td>\n",
       "      <td>1</td>\n",
       "      <td>3</td>\n",
       "    </tr>\n",
       "    <tr>\n",
       "      <th>61571</th>\n",
       "      <td>147965</td>\n",
       "      <td>-1</td>\n",
       "      <td>NaN</td>\n",
       "      <td>NaN</td>\n",
       "      <td>NaN</td>\n",
       "      <td>NaN</td>\n",
       "      <td>NaN</td>\n",
       "      <td>NaN</td>\n",
       "      <td>NaN</td>\n",
       "      <td>NaN</td>\n",
       "      <td>...</td>\n",
       "      <td>NaN</td>\n",
       "      <td>NaN</td>\n",
       "      <td>NaN</td>\n",
       "      <td>NaN</td>\n",
       "      <td>NaN</td>\n",
       "      <td>NaN</td>\n",
       "      <td>NaN</td>\n",
       "      <td>3</td>\n",
       "      <td>2</td>\n",
       "      <td>2</td>\n",
       "    </tr>\n",
       "    <tr>\n",
       "      <th>3383</th>\n",
       "      <td>136175</td>\n",
       "      <td>1</td>\n",
       "      <td>1.0</td>\n",
       "      <td>11.0</td>\n",
       "      <td>NaN</td>\n",
       "      <td>NaN</td>\n",
       "      <td>NaN</td>\n",
       "      <td>NaN</td>\n",
       "      <td>11.0</td>\n",
       "      <td>1.0</td>\n",
       "      <td>...</td>\n",
       "      <td>4.0</td>\n",
       "      <td>5.0</td>\n",
       "      <td>8.0</td>\n",
       "      <td>6.0</td>\n",
       "      <td>6.0</td>\n",
       "      <td>9.0</td>\n",
       "      <td>3.0</td>\n",
       "      <td>3</td>\n",
       "      <td>2</td>\n",
       "      <td>3</td>\n",
       "    </tr>\n",
       "    <tr>\n",
       "      <th>132640</th>\n",
       "      <td>141972</td>\n",
       "      <td>0</td>\n",
       "      <td>1.0</td>\n",
       "      <td>10.0</td>\n",
       "      <td>NaN</td>\n",
       "      <td>NaN</td>\n",
       "      <td>NaN</td>\n",
       "      <td>NaN</td>\n",
       "      <td>9.0</td>\n",
       "      <td>1.0</td>\n",
       "      <td>...</td>\n",
       "      <td>1.0</td>\n",
       "      <td>1.0</td>\n",
       "      <td>2.0</td>\n",
       "      <td>1.0</td>\n",
       "      <td>6.0</td>\n",
       "      <td>9.0</td>\n",
       "      <td>2.0</td>\n",
       "      <td>1</td>\n",
       "      <td>1</td>\n",
       "      <td>4</td>\n",
       "    </tr>\n",
       "    <tr>\n",
       "      <th>21534</th>\n",
       "      <td>105108</td>\n",
       "      <td>0</td>\n",
       "      <td>1.0</td>\n",
       "      <td>8.0</td>\n",
       "      <td>NaN</td>\n",
       "      <td>NaN</td>\n",
       "      <td>NaN</td>\n",
       "      <td>NaN</td>\n",
       "      <td>8.0</td>\n",
       "      <td>19.0</td>\n",
       "      <td>...</td>\n",
       "      <td>4.0</td>\n",
       "      <td>10.0</td>\n",
       "      <td>6.0</td>\n",
       "      <td>3.0</td>\n",
       "      <td>NaN</td>\n",
       "      <td>9.0</td>\n",
       "      <td>3.0</td>\n",
       "      <td>3</td>\n",
       "      <td>1</td>\n",
       "      <td>4</td>\n",
       "    </tr>\n",
       "    <tr>\n",
       "      <th>36696</th>\n",
       "      <td>83192</td>\n",
       "      <td>1</td>\n",
       "      <td>1.0</td>\n",
       "      <td>18.0</td>\n",
       "      <td>NaN</td>\n",
       "      <td>NaN</td>\n",
       "      <td>NaN</td>\n",
       "      <td>NaN</td>\n",
       "      <td>12.0</td>\n",
       "      <td>1.0</td>\n",
       "      <td>...</td>\n",
       "      <td>4.0</td>\n",
       "      <td>2.0</td>\n",
       "      <td>4.0</td>\n",
       "      <td>2.0</td>\n",
       "      <td>2.0</td>\n",
       "      <td>9.0</td>\n",
       "      <td>3.0</td>\n",
       "      <td>1</td>\n",
       "      <td>1</td>\n",
       "      <td>4</td>\n",
       "    </tr>\n",
       "  </tbody>\n",
       "</table>\n",
       "<p>10 rows × 366 columns</p>\n",
       "</div>"
      ],
      "text/plain": [
       "           LNR  AGER_TYP  AKT_DAT_KL  ALTER_HH  ALTER_KIND1  ALTER_KIND2  \\\n",
       "127279    4648         1         1.0      19.0          NaN          NaN   \n",
       "166587  163828         1         1.0      17.0          NaN          NaN   \n",
       "53173   118518        -1         1.0      21.0          NaN          NaN   \n",
       "53445   146279        -1         1.0       0.0          NaN          NaN   \n",
       "2232     58952         3         1.0      17.0          NaN          NaN   \n",
       "61571   147965        -1         NaN       NaN          NaN          NaN   \n",
       "3383    136175         1         1.0      11.0          NaN          NaN   \n",
       "132640  141972         0         1.0      10.0          NaN          NaN   \n",
       "21534   105108         0         1.0       8.0          NaN          NaN   \n",
       "36696    83192         1         1.0      18.0          NaN          NaN   \n",
       "\n",
       "        ALTER_KIND3  ALTER_KIND4  ALTERSKATEGORIE_FEIN  ANZ_HAUSHALTE_AKTIV  \\\n",
       "127279          NaN          NaN                  12.0                  2.0   \n",
       "166587          NaN          NaN                  11.0                  1.0   \n",
       "53173           NaN          NaN                  24.0                  1.0   \n",
       "53445           NaN          NaN                   NaN                 11.0   \n",
       "2232            NaN          NaN                   9.0                  1.0   \n",
       "61571           NaN          NaN                   NaN                  NaN   \n",
       "3383            NaN          NaN                  11.0                  1.0   \n",
       "132640          NaN          NaN                   9.0                  1.0   \n",
       "21534           NaN          NaN                   8.0                 19.0   \n",
       "36696           NaN          NaN                  12.0                  1.0   \n",
       "\n",
       "               ...           VHN  VK_DHT4A  VK_DISTANZ  VK_ZG11  \\\n",
       "127279         ...           2.0       1.0         1.0      1.0   \n",
       "166587         ...           3.0       2.0         4.0      2.0   \n",
       "53173          ...           0.0       2.0         4.0      2.0   \n",
       "53445          ...           4.0       2.0         1.0      1.0   \n",
       "2232           ...           2.0       3.0         3.0      2.0   \n",
       "61571          ...           NaN       NaN         NaN      NaN   \n",
       "3383           ...           4.0       5.0         8.0      6.0   \n",
       "132640         ...           1.0       1.0         2.0      1.0   \n",
       "21534          ...           4.0      10.0         6.0      3.0   \n",
       "36696          ...           4.0       2.0         4.0      2.0   \n",
       "\n",
       "        W_KEIT_KIND_HH  WOHNDAUER_2008  WOHNLAGE ZABEOTYP ANREDE_KZ  \\\n",
       "127279             3.0             9.0       7.0        4         1   \n",
       "166587             2.0             9.0       2.0        1         1   \n",
       "53173              1.0             9.0       7.0        1         1   \n",
       "53445              6.0             3.0       4.0        3         1   \n",
       "2232               2.0             9.0       1.0        1         1   \n",
       "61571              NaN             NaN       NaN        3         2   \n",
       "3383               6.0             9.0       3.0        3         2   \n",
       "132640             6.0             9.0       2.0        1         1   \n",
       "21534              NaN             9.0       3.0        3         1   \n",
       "36696              2.0             9.0       3.0        1         1   \n",
       "\n",
       "       ALTERSKATEGORIE_GROB  \n",
       "127279                    4  \n",
       "166587                    4  \n",
       "53173                     4  \n",
       "53445                     4  \n",
       "2232                      3  \n",
       "61571                     2  \n",
       "3383                      3  \n",
       "132640                    4  \n",
       "21534                     4  \n",
       "36696                     4  \n",
       "\n",
       "[10 rows x 366 columns]"
      ]
     },
     "execution_count": 9,
     "metadata": {},
     "output_type": "execute_result"
    }
   ],
   "source": [
    "customers.sample(10)"
   ]
  },
  {
   "cell_type": "markdown",
   "metadata": {},
   "source": [
    "### Part 0.2: Replace nans from DIAS_attributes.xlsx file "
   ]
  },
  {
   "cell_type": "code",
   "execution_count": 15,
   "metadata": {},
   "outputs": [],
   "source": [
    "# Parse strings in features and encode to int\n",
    "def extract_num(strs):\n",
    "    nums = []\n",
    "    str_as_num = strs.replace('[', '').replace(']','').split(',')\n",
    "    for s in str_as_num:\n",
    "        if s == 'X' or s == 'XX' or s == '':\n",
    "            nums.append(s)\n",
    "        else:\n",
    "            nums.append(int(s))\n",
    "    return nums"
   ]
  },
  {
   "cell_type": "code",
   "execution_count": 16,
   "metadata": {
    "scrolled": true
   },
   "outputs": [],
   "source": [
    "feat_unknown = pd.read_csv('feat_unkown.csv')\n",
    "#feat_unknown"
   ]
  },
  {
   "cell_type": "code",
   "execution_count": null,
   "metadata": {
    "scrolled": false
   },
   "outputs": [],
   "source": [
    "for idx, col in enumerate(feat_unknown['Attribute']):\n",
    "    item_to_change = extract_num(feat_unknown['Value'][idx])\n",
    "    if col in azdias.columns.tolist():\n",
    "        #print(idx, col, item_to_change)\n",
    "        azdias[col].replace(item_to_change, np.nan, inplace=True)"
   ]
  },
  {
   "cell_type": "markdown",
   "metadata": {},
   "source": [
    "### Part 0.3: Process with Missing Data\n",
    "#### Part 0.3.1: Assess Missing Data in Each Column"
   ]
  },
  {
   "cell_type": "code",
   "execution_count": 13,
   "metadata": {},
   "outputs": [],
   "source": [
    "# Perform an assessment of how much missing data there is in each column of the\n",
    "# dataset.\n",
    "percent_null_count = (azdias.isnull().sum()/len(azdias))*100"
   ]
  },
  {
   "cell_type": "code",
   "execution_count": 14,
   "metadata": {
    "scrolled": true
   },
   "outputs": [
    {
     "data": {
      "image/png": "[encoded data removed]",
      "text/plain": [
       "<matplotlib.figure.Figure at 0x7f36e46c3a90>"
      ]
     },
     "metadata": {
      "needs_background": "light"
     },
     "output_type": "display_data"
    }
   ],
   "source": [
    "# Investigate patterns in the amount of missing data in each column.\n",
    "plt.hist(percent_null_count, bins=100)\n",
    "plt.xlabel('Percentage of Missing Values')\n",
    "plt.ylabel('Number of Colums')\n",
    "plt.show()"
   ]
  },
  {
   "cell_type": "code",
   "execution_count": 15,
   "metadata": {
    "scrolled": true
   },
   "outputs": [
    {
     "name": "stdout",
     "output_type": "stream",
     "text": [
      "AGER_TYP                       76.019640\n",
      "ALTER_HH                       34.813699\n",
      "ALTER_KIND1                    90.904837\n",
      "ALTER_KIND2                    96.690047\n",
      "ALTER_KIND3                    99.307691\n",
      "ALTER_KIND4                    99.864792\n",
      "ALTERSKATEGORIE_FEIN           29.504130\n",
      "D19_BANKEN_ANZ_12              93.325225\n",
      "D19_BANKEN_ANZ_24              89.102479\n",
      "D19_BANKEN_DATUM               76.112547\n",
      "D19_BANKEN_OFFLINE_DATUM       97.791120\n",
      "D19_BANKEN_ONLINE_DATUM        81.571462\n",
      "D19_BANKEN_ONLINE_QUOTE_12     28.849522\n",
      "D19_GESAMT_ANZ_12              65.617507\n",
      "D19_GESAMT_ANZ_24              56.697834\n",
      "D19_GESAMT_DATUM               39.739863\n",
      "D19_GESAMT_OFFLINE_DATUM       62.673344\n",
      "D19_GESAMT_ONLINE_DATUM        50.604171\n",
      "D19_GESAMT_ONLINE_QUOTE_12     28.849522\n",
      "D19_KONSUMTYP                  28.849522\n",
      "D19_LETZTER_KAUF_BRANCHE       28.849522\n",
      "D19_LOTTO                      28.849522\n",
      "D19_SOZIALES                   28.849522\n",
      "D19_TELKO_ANZ_12               96.271295\n",
      "D19_TELKO_ANZ_24               92.705176\n",
      "D19_TELKO_DATUM                74.706274\n",
      "D19_TELKO_ONLINE_DATUM         99.079577\n",
      "D19_TELKO_ONLINE_QUOTE_12      28.849522\n",
      "D19_VERSAND_ANZ_12             71.584040\n",
      "D19_VERSAND_ANZ_24             63.263545\n",
      "D19_VERSAND_DATUM              49.133268\n",
      "D19_VERSAND_OFFLINE_DATUM      71.164504\n",
      "D19_VERSAND_ONLINE_DATUM       55.481637\n",
      "D19_VERSAND_ONLINE_QUOTE_12    28.849522\n",
      "D19_VERSI_ANZ_12               92.153237\n",
      "D19_VERSI_ANZ_24               87.187914\n",
      "D19_VERSI_ONLINE_QUOTE_12      28.849522\n",
      "EXTSEL992                      73.399639\n",
      "KBA05_BAUMAX                   53.468668\n",
      "KK_KUNDENTYP                   65.596749\n",
      "TITEL_KZ                       99.757636\n",
      "dtype: float64\n"
     ]
    }
   ],
   "source": [
    "# Remove the outlier columns from the dataset. (You'll perform other data\n",
    "# engineering tasks such as re-encoding and imputation later.)\n",
    "percent_missing_over20 = percent_null_count[percent_null_count>20]\n",
    "print(percent_missing_over20)"
   ]
  },
  {
   "cell_type": "code",
   "execution_count": 16,
   "metadata": {},
   "outputs": [
    {
     "name": "stdout",
     "output_type": "stream",
     "text": [
      "['AGER_TYP', 'ALTER_HH', 'ALTER_KIND1', 'ALTER_KIND2', 'ALTER_KIND3', 'ALTER_KIND4', 'ALTERSKATEGORIE_FEIN', 'D19_BANKEN_ANZ_12', 'D19_BANKEN_ANZ_24', 'D19_BANKEN_DATUM', 'D19_BANKEN_OFFLINE_DATUM', 'D19_BANKEN_ONLINE_DATUM', 'D19_BANKEN_ONLINE_QUOTE_12', 'D19_GESAMT_ANZ_12', 'D19_GESAMT_ANZ_24', 'D19_GESAMT_DATUM', 'D19_GESAMT_OFFLINE_DATUM', 'D19_GESAMT_ONLINE_DATUM', 'D19_GESAMT_ONLINE_QUOTE_12', 'D19_KONSUMTYP', 'D19_LETZTER_KAUF_BRANCHE', 'D19_LOTTO', 'D19_SOZIALES', 'D19_TELKO_ANZ_12', 'D19_TELKO_ANZ_24', 'D19_TELKO_DATUM', 'D19_TELKO_ONLINE_DATUM', 'D19_TELKO_ONLINE_QUOTE_12', 'D19_VERSAND_ANZ_12', 'D19_VERSAND_ANZ_24', 'D19_VERSAND_DATUM', 'D19_VERSAND_OFFLINE_DATUM', 'D19_VERSAND_ONLINE_DATUM', 'D19_VERSAND_ONLINE_QUOTE_12', 'D19_VERSI_ANZ_12', 'D19_VERSI_ANZ_24', 'D19_VERSI_ONLINE_QUOTE_12', 'EXTSEL992', 'KBA05_BAUMAX', 'KK_KUNDENTYP', 'TITEL_KZ']\n"
     ]
    },
    {
     "data": {
      "text/html": [
       "<div>\n",
       "<style scoped>\n",
       "    .dataframe tbody tr th:only-of-type {\n",
       "        vertical-align: middle;\n",
       "    }\n",
       "\n",
       "    .dataframe tbody tr th {\n",
       "        vertical-align: top;\n",
       "    }\n",
       "\n",
       "    .dataframe thead th {\n",
       "        text-align: right;\n",
       "    }\n",
       "</style>\n",
       "<table border=\"1\" class=\"dataframe\">\n",
       "  <thead>\n",
       "    <tr style=\"text-align: right;\">\n",
       "      <th></th>\n",
       "      <th>LNR</th>\n",
       "      <th>AKT_DAT_KL</th>\n",
       "      <th>ANZ_HAUSHALTE_AKTIV</th>\n",
       "      <th>ANZ_HH_TITEL</th>\n",
       "      <th>ANZ_KINDER</th>\n",
       "      <th>ANZ_PERSONEN</th>\n",
       "      <th>ANZ_STATISTISCHE_HAUSHALTE</th>\n",
       "      <th>ANZ_TITEL</th>\n",
       "      <th>ARBEIT</th>\n",
       "      <th>BALLRAUM</th>\n",
       "      <th>...</th>\n",
       "      <th>VHN</th>\n",
       "      <th>VK_DHT4A</th>\n",
       "      <th>VK_DISTANZ</th>\n",
       "      <th>VK_ZG11</th>\n",
       "      <th>W_KEIT_KIND_HH</th>\n",
       "      <th>WOHNDAUER_2008</th>\n",
       "      <th>WOHNLAGE</th>\n",
       "      <th>ZABEOTYP</th>\n",
       "      <th>ANREDE_KZ</th>\n",
       "      <th>ALTERSKATEGORIE_GROB</th>\n",
       "    </tr>\n",
       "  </thead>\n",
       "  <tbody>\n",
       "    <tr>\n",
       "      <th>0</th>\n",
       "      <td>910215</td>\n",
       "      <td>NaN</td>\n",
       "      <td>NaN</td>\n",
       "      <td>NaN</td>\n",
       "      <td>NaN</td>\n",
       "      <td>NaN</td>\n",
       "      <td>NaN</td>\n",
       "      <td>NaN</td>\n",
       "      <td>NaN</td>\n",
       "      <td>NaN</td>\n",
       "      <td>...</td>\n",
       "      <td>NaN</td>\n",
       "      <td>NaN</td>\n",
       "      <td>NaN</td>\n",
       "      <td>NaN</td>\n",
       "      <td>NaN</td>\n",
       "      <td>NaN</td>\n",
       "      <td>NaN</td>\n",
       "      <td>3</td>\n",
       "      <td>1</td>\n",
       "      <td>2</td>\n",
       "    </tr>\n",
       "    <tr>\n",
       "      <th>1</th>\n",
       "      <td>910220</td>\n",
       "      <td>9.0</td>\n",
       "      <td>11.0</td>\n",
       "      <td>0.0</td>\n",
       "      <td>0.0</td>\n",
       "      <td>2.0</td>\n",
       "      <td>12.0</td>\n",
       "      <td>0.0</td>\n",
       "      <td>3.0</td>\n",
       "      <td>6.0</td>\n",
       "      <td>...</td>\n",
       "      <td>4.0</td>\n",
       "      <td>8.0</td>\n",
       "      <td>11.0</td>\n",
       "      <td>10.0</td>\n",
       "      <td>3.0</td>\n",
       "      <td>9.0</td>\n",
       "      <td>4.0</td>\n",
       "      <td>5</td>\n",
       "      <td>2</td>\n",
       "      <td>1</td>\n",
       "    </tr>\n",
       "    <tr>\n",
       "      <th>2</th>\n",
       "      <td>910225</td>\n",
       "      <td>9.0</td>\n",
       "      <td>10.0</td>\n",
       "      <td>0.0</td>\n",
       "      <td>0.0</td>\n",
       "      <td>1.0</td>\n",
       "      <td>7.0</td>\n",
       "      <td>0.0</td>\n",
       "      <td>3.0</td>\n",
       "      <td>2.0</td>\n",
       "      <td>...</td>\n",
       "      <td>2.0</td>\n",
       "      <td>9.0</td>\n",
       "      <td>9.0</td>\n",
       "      <td>6.0</td>\n",
       "      <td>3.0</td>\n",
       "      <td>9.0</td>\n",
       "      <td>2.0</td>\n",
       "      <td>5</td>\n",
       "      <td>2</td>\n",
       "      <td>3</td>\n",
       "    </tr>\n",
       "    <tr>\n",
       "      <th>3</th>\n",
       "      <td>910226</td>\n",
       "      <td>1.0</td>\n",
       "      <td>1.0</td>\n",
       "      <td>0.0</td>\n",
       "      <td>0.0</td>\n",
       "      <td>0.0</td>\n",
       "      <td>2.0</td>\n",
       "      <td>0.0</td>\n",
       "      <td>2.0</td>\n",
       "      <td>4.0</td>\n",
       "      <td>...</td>\n",
       "      <td>0.0</td>\n",
       "      <td>7.0</td>\n",
       "      <td>10.0</td>\n",
       "      <td>11.0</td>\n",
       "      <td>NaN</td>\n",
       "      <td>9.0</td>\n",
       "      <td>7.0</td>\n",
       "      <td>3</td>\n",
       "      <td>2</td>\n",
       "      <td>4</td>\n",
       "    </tr>\n",
       "    <tr>\n",
       "      <th>4</th>\n",
       "      <td>910241</td>\n",
       "      <td>1.0</td>\n",
       "      <td>3.0</td>\n",
       "      <td>0.0</td>\n",
       "      <td>0.0</td>\n",
       "      <td>4.0</td>\n",
       "      <td>3.0</td>\n",
       "      <td>0.0</td>\n",
       "      <td>4.0</td>\n",
       "      <td>2.0</td>\n",
       "      <td>...</td>\n",
       "      <td>2.0</td>\n",
       "      <td>3.0</td>\n",
       "      <td>5.0</td>\n",
       "      <td>4.0</td>\n",
       "      <td>2.0</td>\n",
       "      <td>9.0</td>\n",
       "      <td>3.0</td>\n",
       "      <td>4</td>\n",
       "      <td>1</td>\n",
       "      <td>3</td>\n",
       "    </tr>\n",
       "  </tbody>\n",
       "</table>\n",
       "<p>5 rows × 325 columns</p>\n",
       "</div>"
      ],
      "text/plain": [
       "      LNR  AKT_DAT_KL  ANZ_HAUSHALTE_AKTIV  ANZ_HH_TITEL  ANZ_KINDER  \\\n",
       "0  910215         NaN                  NaN           NaN         NaN   \n",
       "1  910220         9.0                 11.0           0.0         0.0   \n",
       "2  910225         9.0                 10.0           0.0         0.0   \n",
       "3  910226         1.0                  1.0           0.0         0.0   \n",
       "4  910241         1.0                  3.0           0.0         0.0   \n",
       "\n",
       "   ANZ_PERSONEN  ANZ_STATISTISCHE_HAUSHALTE  ANZ_TITEL  ARBEIT  BALLRAUM  \\\n",
       "0           NaN                         NaN        NaN     NaN       NaN   \n",
       "1           2.0                        12.0        0.0     3.0       6.0   \n",
       "2           1.0                         7.0        0.0     3.0       2.0   \n",
       "3           0.0                         2.0        0.0     2.0       4.0   \n",
       "4           4.0                         3.0        0.0     4.0       2.0   \n",
       "\n",
       "           ...           VHN VK_DHT4A VK_DISTANZ  VK_ZG11  W_KEIT_KIND_HH  \\\n",
       "0          ...           NaN      NaN        NaN      NaN             NaN   \n",
       "1          ...           4.0      8.0       11.0     10.0             3.0   \n",
       "2          ...           2.0      9.0        9.0      6.0             3.0   \n",
       "3          ...           0.0      7.0       10.0     11.0             NaN   \n",
       "4          ...           2.0      3.0        5.0      4.0             2.0   \n",
       "\n",
       "   WOHNDAUER_2008  WOHNLAGE  ZABEOTYP  ANREDE_KZ  ALTERSKATEGORIE_GROB  \n",
       "0             NaN       NaN         3          1                     2  \n",
       "1             9.0       4.0         5          2                     1  \n",
       "2             9.0       2.0         5          2                     3  \n",
       "3             9.0       7.0         3          2                     4  \n",
       "4             9.0       3.0         4          1                     3  \n",
       "\n",
       "[5 rows x 325 columns]"
      ]
     },
     "execution_count": 16,
     "metadata": {},
     "output_type": "execute_result"
    }
   ],
   "source": [
    "drop_col = percent_missing_over20.index.tolist()\n",
    "print(drop_col)\n",
    "azdias = azdias.drop(drop_col, axis=1)\n",
    "azdias.head()"
   ]
  },
  {
   "cell_type": "markdown",
   "metadata": {},
   "source": [
    "#### Part 0.3.2: Assess Missing Data in Each Row"
   ]
  },
  {
   "cell_type": "code",
   "execution_count": 17,
   "metadata": {},
   "outputs": [
    {
     "data": {
      "image/png": "[encoded data removed]",
      "text/plain": [
       "<matplotlib.figure.Figure at 0x7f36afd00a90>"
      ]
     },
     "metadata": {
      "needs_background": "light"
     },
     "output_type": "display_data"
    }
   ],
   "source": [
    "# How much data is missing in each row of the dataset?\n",
    "feas_row_missing = azdias.isnull().sum(axis=1)\n",
    "plt.hist(feas_row_missing, bins=100)\n",
    "plt.xlabel('Features missing of each row')\n",
    "plt.ylabel('Number of rows')\n",
    "plt.show()"
   ]
  },
  {
   "cell_type": "code",
   "execution_count": 18,
   "metadata": {},
   "outputs": [],
   "source": [
    "# Drop rows with missing features over 10\n",
    "# values in each row.\n",
    "azdias = azdias[feas_row_missing<11]"
   ]
  },
  {
   "cell_type": "code",
   "execution_count": 19,
   "metadata": {},
   "outputs": [
    {
     "data": {
      "text/plain": [
       "(732486, 325)"
      ]
     },
     "execution_count": 19,
     "metadata": {},
     "output_type": "execute_result"
    }
   ],
   "source": [
    "azdias.shape"
   ]
  },
  {
   "cell_type": "code",
   "execution_count": 20,
   "metadata": {},
   "outputs": [],
   "source": [
    "categorical_feats = ['OST_WEST_KZ', 'CAMEO_INTL_2015', 'VERS_TYP']"
   ]
  },
  {
   "cell_type": "code",
   "execution_count": 21,
   "metadata": {},
   "outputs": [],
   "source": [
    "azdias['OST_WEST_KZ'].replace(['W', 'O'], [1, 0], inplace=True)\n",
    "azdias['VERS_TYP'].replace([1, 2], [1, 0], inplace=True)\n",
    "azdias['ANREDE_KZ'].replace([2, 1], [1, 0], inplace=True)"
   ]
  },
  {
   "cell_type": "code",
   "execution_count": 22,
   "metadata": {},
   "outputs": [],
   "source": [
    "# Investigate \"CAMEO_INTL_2015\" and engineer two new variables.\n",
    "azdias['CAMEO_INTL_2015_WEALTH'] = azdias['CAMEO_INTL_2015'];\n",
    "azdias['CAMEO_INTL_2015_LIFESTAGE'] = azdias['CAMEO_INTL_2015'];\n",
    "azdias = azdias.drop('CAMEO_INTL_2015', axis=1);\n",
    "\n",
    "wealth_dic = {'11':1, '12':1, '13':1, '14':1, '15':1, '21':2, '22':2, '23':2, '24':2, '25':2,\n",
    "               '31':3, '32':3, '33':3, '34':3, '35':3, '41':4, '42':4, '43':4, '44':4, '45':4,\n",
    "               '51':5, '52':5, '53':5, '54':5, '55':5}\n",
    "\n",
    "lifestage_dic = {'11':1, '12':2, '13':3, '14':4, '15':5, '21':1, '22':2, '23':3, '24':4, '25':5,\n",
    "                   '31':1, '32':2, '33':3, '34':4, '35':5, '41':1, '42':2, '43':3, '44':4, '45':5,\n",
    "                   '51':1, '52':2, '53':3, '54':4, '55':5}\n",
    "\n",
    "azdias['CAMEO_INTL_2015_WEALTH'].replace(wealth_dic, inplace=True)\n",
    "azdias['CAMEO_INTL_2015_LIFESTAGE'].replace(lifestage_dic, inplace=True)"
   ]
  },
  {
   "cell_type": "code",
   "execution_count": 23,
   "metadata": {},
   "outputs": [],
   "source": [
    "azdias['PRAEGENDE_DECADE'] = azdias['PRAEGENDE_JUGENDJAHRE'];\n",
    "azdias['PRAEGENDE_MOVEMENT'] = azdias['PRAEGENDE_JUGENDJAHRE'];\n",
    "azdias = azdias.drop('PRAEGENDE_JUGENDJAHRE', axis=1);\n",
    "decade_dic = {1:1, 2:1, 3:2, 4:2, 5:3, 6:3, 7:3, 8:4, 9:4, 10:5, 11:5, 12:5, 13:5, 14:6, 15:6}\n",
    "movement_dic = {1:1, 2:0, 3:1, 4:0, 5:1, 6:0, 7:0, 8:1, 9:0, 10:1, 11:0, 12:1, 13:0, 14:1, 15:0}\n",
    "azdias['PRAEGENDE_DECADE'].replace(decade_dic, inplace=True)\n",
    "azdias['PRAEGENDE_MOVEMENT'].replace(movement_dic, inplace=True)"
   ]
  },
  {
   "cell_type": "code",
   "execution_count": 24,
   "metadata": {},
   "outputs": [],
   "source": [
    "azdias = pd.get_dummies(azdias, columns=['CAMEO_DEU_2015'])"
   ]
  },
  {
   "cell_type": "code",
   "execution_count": 25,
   "metadata": {},
   "outputs": [],
   "source": [
    "azdias.drop(['LNR'], axis=1, inplace=True)"
   ]
  },
  {
   "cell_type": "markdown",
   "metadata": {},
   "source": [
    "### Step 0.4: Create a Cleaning Function\n",
    "\"clean_data\" function is imported from workspace_utilities"
   ]
  },
  {
   "cell_type": "code",
   "execution_count": 9,
   "metadata": {},
   "outputs": [],
   "source": [
    "customer = clean_data(customers)"
   ]
  },
  {
   "cell_type": "code",
   "execution_count": 12,
   "metadata": {},
   "outputs": [
    {
     "data": {
      "text/plain": [
       "(178244, 366)"
      ]
     },
     "execution_count": 12,
     "metadata": {},
     "output_type": "execute_result"
    }
   ],
   "source": [
    "# Select 20% of Azdias dataset to test algorithm,\n",
    "azdias_sample = azdias.sample(frac=0.2, random_state=1)\n",
    "azdias_sample.shape"
   ]
  },
  {
   "cell_type": "code",
   "execution_count": 13,
   "metadata": {},
   "outputs": [],
   "source": [
    "azdias_sample = clean_data(azdias_sample)"
   ]
  },
  {
   "cell_type": "code",
   "execution_count": 14,
   "metadata": {},
   "outputs": [
    {
     "name": "stdout",
     "output_type": "stream",
     "text": [
      "The shape of Azdias Dataset after cleaning is: (146323, 369)\n",
      "The shape of Customer Dataset after cleaning is: (131203, 369)\n"
     ]
    }
   ],
   "source": [
    "print('The shape of Azdias Dataset after cleaning is:', azdias_sample.shape)\n",
    "print('The shape of Customer Dataset after cleaning is:', customer.shape)"
   ]
  },
  {
   "cell_type": "markdown",
   "metadata": {},
   "source": [
    "## Part 1: Customer Segmentation Report\n",
    "\n",
    "The main bulk of your analysis will come in this part of the project. Here, you should use unsupervised learning techniques to describe the relationship between the demographics of the company's existing customers and the general population of Germany. By the end of this part, you should be able to describe parts of the general population that are more likely to be part of the mail-order company's main customer base, and which parts of the general population are less so."
   ]
  },
  {
   "cell_type": "markdown",
   "metadata": {},
   "source": [
    "## Step 1.1: Feature Transformation\n",
    "\n",
    "### Step 1.1.1: Apply Feature Scaling\n",
    "\n",
    "Before we apply dimensionality reduction techniques to the data, we need to perform feature scaling so that the principal component vectors are not influenced by the natural differences in scale for features. Starting from this part of the project, you'll want to keep an eye on the [API reference page for sklearn](http://scikit-learn.org/stable/modules/classes.html) to help you navigate to all of the classes and functions that you'll need. In this substep, you'll need to check the following:\n",
    "\n",
    "- sklearn requires that data not have missing values in order for its estimators to work properly. So, before applying the scaler to your data, make sure that you've cleaned the DataFrame of the remaining missing values. This can be as simple as just removing all data points with missing data, or applying an [Imputer](http://scikit-learn.org/stable/modules/generated/sklearn.preprocessing.Imputer.html) to replace all missing values. You might also try a more complicated procedure where you temporarily remove missing values in order to compute the scaling parameters before re-introducing those missing values and applying imputation. Think about how much missing data you have and what possible effects each approach might have on your analysis, and justify your decision in the discussion section below.\n",
    "- For the actual scaling function, a [StandardScaler](http://scikit-learn.org/stable/modules/generated/sklearn.preprocessing.StandardScaler.html) instance is suggested, scaling each feature to mean 0 and standard deviation 1.\n",
    "- For these classes, you can make use of the `.fit_transform()` method to both fit a procedure to the data as well as apply the transformation to the data at the same time. Don't forget to keep the fit sklearn objects handy, since you'll be applying them to the customer demographics data towards the end of the project."
   ]
  },
  {
   "cell_type": "code",
   "execution_count": 15,
   "metadata": {},
   "outputs": [
    {
     "data": {
      "text/html": [
       "<div>\n",
       "<style scoped>\n",
       "    .dataframe tbody tr th:only-of-type {\n",
       "        vertical-align: middle;\n",
       "    }\n",
       "\n",
       "    .dataframe tbody tr th {\n",
       "        vertical-align: top;\n",
       "    }\n",
       "\n",
       "    .dataframe thead th {\n",
       "        text-align: right;\n",
       "    }\n",
       "</style>\n",
       "<table border=\"1\" class=\"dataframe\">\n",
       "  <thead>\n",
       "    <tr style=\"text-align: right;\">\n",
       "      <th></th>\n",
       "      <th>AKT_DAT_KL</th>\n",
       "      <th>ANZ_HAUSHALTE_AKTIV</th>\n",
       "      <th>ANZ_HH_TITEL</th>\n",
       "      <th>ANZ_KINDER</th>\n",
       "      <th>ANZ_PERSONEN</th>\n",
       "      <th>ANZ_STATISTISCHE_HAUSHALTE</th>\n",
       "      <th>ANZ_TITEL</th>\n",
       "      <th>ARBEIT</th>\n",
       "      <th>BALLRAUM</th>\n",
       "      <th>CAMEO_DEUG_2015</th>\n",
       "      <th>...</th>\n",
       "      <th>CAMEO_DEU_2015_7E</th>\n",
       "      <th>CAMEO_DEU_2015_8A</th>\n",
       "      <th>CAMEO_DEU_2015_8B</th>\n",
       "      <th>CAMEO_DEU_2015_8C</th>\n",
       "      <th>CAMEO_DEU_2015_8D</th>\n",
       "      <th>CAMEO_DEU_2015_9A</th>\n",
       "      <th>CAMEO_DEU_2015_9B</th>\n",
       "      <th>CAMEO_DEU_2015_9C</th>\n",
       "      <th>CAMEO_DEU_2015_9D</th>\n",
       "      <th>CAMEO_DEU_2015_9E</th>\n",
       "    </tr>\n",
       "  </thead>\n",
       "  <tbody>\n",
       "    <tr>\n",
       "      <th>337901</th>\n",
       "      <td>9.0</td>\n",
       "      <td>3.0</td>\n",
       "      <td>0.0</td>\n",
       "      <td>1.0</td>\n",
       "      <td>2.0</td>\n",
       "      <td>3.0</td>\n",
       "      <td>0.0</td>\n",
       "      <td>NaN</td>\n",
       "      <td>6.0</td>\n",
       "      <td>4</td>\n",
       "      <td>...</td>\n",
       "      <td>0</td>\n",
       "      <td>0</td>\n",
       "      <td>0</td>\n",
       "      <td>0</td>\n",
       "      <td>0</td>\n",
       "      <td>0</td>\n",
       "      <td>0</td>\n",
       "      <td>0</td>\n",
       "      <td>0</td>\n",
       "      <td>0</td>\n",
       "    </tr>\n",
       "    <tr>\n",
       "      <th>215064</th>\n",
       "      <td>1.0</td>\n",
       "      <td>1.0</td>\n",
       "      <td>0.0</td>\n",
       "      <td>1.0</td>\n",
       "      <td>3.0</td>\n",
       "      <td>1.0</td>\n",
       "      <td>0.0</td>\n",
       "      <td>4.0</td>\n",
       "      <td>2.0</td>\n",
       "      <td>2</td>\n",
       "      <td>...</td>\n",
       "      <td>0</td>\n",
       "      <td>0</td>\n",
       "      <td>0</td>\n",
       "      <td>0</td>\n",
       "      <td>0</td>\n",
       "      <td>0</td>\n",
       "      <td>0</td>\n",
       "      <td>0</td>\n",
       "      <td>0</td>\n",
       "      <td>0</td>\n",
       "    </tr>\n",
       "    <tr>\n",
       "      <th>678552</th>\n",
       "      <td>1.0</td>\n",
       "      <td>1.0</td>\n",
       "      <td>0.0</td>\n",
       "      <td>0.0</td>\n",
       "      <td>3.0</td>\n",
       "      <td>1.0</td>\n",
       "      <td>0.0</td>\n",
       "      <td>5.0</td>\n",
       "      <td>3.0</td>\n",
       "      <td>6</td>\n",
       "      <td>...</td>\n",
       "      <td>0</td>\n",
       "      <td>0</td>\n",
       "      <td>0</td>\n",
       "      <td>0</td>\n",
       "      <td>0</td>\n",
       "      <td>0</td>\n",
       "      <td>0</td>\n",
       "      <td>0</td>\n",
       "      <td>0</td>\n",
       "      <td>0</td>\n",
       "    </tr>\n",
       "    <tr>\n",
       "      <th>849379</th>\n",
       "      <td>4.0</td>\n",
       "      <td>27.0</td>\n",
       "      <td>0.0</td>\n",
       "      <td>0.0</td>\n",
       "      <td>2.0</td>\n",
       "      <td>23.0</td>\n",
       "      <td>0.0</td>\n",
       "      <td>4.0</td>\n",
       "      <td>1.0</td>\n",
       "      <td>7</td>\n",
       "      <td>...</td>\n",
       "      <td>0</td>\n",
       "      <td>0</td>\n",
       "      <td>0</td>\n",
       "      <td>0</td>\n",
       "      <td>0</td>\n",
       "      <td>0</td>\n",
       "      <td>0</td>\n",
       "      <td>0</td>\n",
       "      <td>0</td>\n",
       "      <td>0</td>\n",
       "    </tr>\n",
       "    <tr>\n",
       "      <th>700557</th>\n",
       "      <td>1.0</td>\n",
       "      <td>18.0</td>\n",
       "      <td>0.0</td>\n",
       "      <td>0.0</td>\n",
       "      <td>1.0</td>\n",
       "      <td>17.0</td>\n",
       "      <td>0.0</td>\n",
       "      <td>4.0</td>\n",
       "      <td>1.0</td>\n",
       "      <td>9</td>\n",
       "      <td>...</td>\n",
       "      <td>0</td>\n",
       "      <td>0</td>\n",
       "      <td>0</td>\n",
       "      <td>0</td>\n",
       "      <td>0</td>\n",
       "      <td>0</td>\n",
       "      <td>0</td>\n",
       "      <td>1</td>\n",
       "      <td>0</td>\n",
       "      <td>0</td>\n",
       "    </tr>\n",
       "  </tbody>\n",
       "</table>\n",
       "<p>5 rows × 369 columns</p>\n",
       "</div>"
      ],
      "text/plain": [
       "        AKT_DAT_KL  ANZ_HAUSHALTE_AKTIV  ANZ_HH_TITEL  ANZ_KINDER  \\\n",
       "337901         9.0                  3.0           0.0         1.0   \n",
       "215064         1.0                  1.0           0.0         1.0   \n",
       "678552         1.0                  1.0           0.0         0.0   \n",
       "849379         4.0                 27.0           0.0         0.0   \n",
       "700557         1.0                 18.0           0.0         0.0   \n",
       "\n",
       "        ANZ_PERSONEN  ANZ_STATISTISCHE_HAUSHALTE  ANZ_TITEL  ARBEIT  BALLRAUM  \\\n",
       "337901           2.0                         3.0        0.0     NaN       6.0   \n",
       "215064           3.0                         1.0        0.0     4.0       2.0   \n",
       "678552           3.0                         1.0        0.0     5.0       3.0   \n",
       "849379           2.0                        23.0        0.0     4.0       1.0   \n",
       "700557           1.0                        17.0        0.0     4.0       1.0   \n",
       "\n",
       "       CAMEO_DEUG_2015        ...          CAMEO_DEU_2015_7E  \\\n",
       "337901               4        ...                          0   \n",
       "215064               2        ...                          0   \n",
       "678552               6        ...                          0   \n",
       "849379               7        ...                          0   \n",
       "700557               9        ...                          0   \n",
       "\n",
       "        CAMEO_DEU_2015_8A  CAMEO_DEU_2015_8B  CAMEO_DEU_2015_8C  \\\n",
       "337901                  0                  0                  0   \n",
       "215064                  0                  0                  0   \n",
       "678552                  0                  0                  0   \n",
       "849379                  0                  0                  0   \n",
       "700557                  0                  0                  0   \n",
       "\n",
       "        CAMEO_DEU_2015_8D  CAMEO_DEU_2015_9A  CAMEO_DEU_2015_9B  \\\n",
       "337901                  0                  0                  0   \n",
       "215064                  0                  0                  0   \n",
       "678552                  0                  0                  0   \n",
       "849379                  0                  0                  0   \n",
       "700557                  0                  0                  0   \n",
       "\n",
       "        CAMEO_DEU_2015_9C  CAMEO_DEU_2015_9D  CAMEO_DEU_2015_9E  \n",
       "337901                  0                  0                  0  \n",
       "215064                  0                  0                  0  \n",
       "678552                  0                  0                  0  \n",
       "849379                  0                  0                  0  \n",
       "700557                  1                  0                  0  \n",
       "\n",
       "[5 rows x 369 columns]"
      ]
     },
     "execution_count": 15,
     "metadata": {},
     "output_type": "execute_result"
    }
   ],
   "source": [
    "azdias_sample.head()"
   ]
  },
  {
   "cell_type": "code",
   "execution_count": 30,
   "metadata": {},
   "outputs": [],
   "source": [
    "# Impute the Nans, \n",
    "my_imputer = Imputer()\n",
    "azdias_data = my_imputer.fit_transform(azdias_sample)"
   ]
  },
  {
   "cell_type": "code",
   "execution_count": 31,
   "metadata": {},
   "outputs": [],
   "source": [
    "# Apply feature scaling to the general population demographics data.\n",
    "my_scaler = StandardScaler()\n",
    "azdias_data = my_scaler.fit_transform(azdias_data)"
   ]
  },
  {
   "cell_type": "code",
   "execution_count": 32,
   "metadata": {},
   "outputs": [
    {
     "name": "stdout",
     "output_type": "stream",
     "text": [
      "(146323, 368)\n",
      "[[ 1.25984979 -0.34138069 -0.12632584 ..., -0.17953243 -0.19363429\n",
      "  -0.07358332]\n",
      " [-0.93647885 -0.4712195  -0.12632584 ..., -0.17953243 -0.19363429\n",
      "  -0.07358332]\n",
      " [-0.93647885 -0.4712195  -0.12632584 ..., -0.17953243 -0.19363429\n",
      "  -0.07358332]\n",
      " ..., \n",
      " [ 1.25984979 -0.40630009 -0.12632584 ..., -0.17953243 -0.19363429\n",
      "  -0.07358332]\n",
      " [-0.93647885 -0.40630009 -0.12632584 ..., -0.17953243 -0.19363429\n",
      "  -0.07358332]\n",
      " [-0.11285561 -0.40630009 -0.12632584 ..., -0.17953243 -0.19363429\n",
      "  -0.07358332]]\n"
     ]
    }
   ],
   "source": [
    "print(azdias_data.shape)\n",
    "print(azdias_data[:10])\n"
   ]
  },
  {
   "cell_type": "markdown",
   "metadata": {},
   "source": [
    "The dataset is copied to a new dataset, and the nans are replaced with the mean value of each column, and then the dataset is been scaled to mean 0 and standard deviation 1."
   ]
  },
  {
   "cell_type": "markdown",
   "metadata": {},
   "source": [
    "### Step 1.1.2: Perform Dimensionality Reduction\n",
    "\n",
    "On the scaled data, we'll apply dimensionality reduction techniques.\n",
    "\n",
    "- Use sklearn's [PCA](http://scikit-learn.org/stable/modules/generated/sklearn.decomposition.PCA.html) class to apply principal component analysis on the data, thus finding the vectors of maximal variance in the data. To start, you should not set any parameters (so all components are computed) or set a number of components that is at least half the number of features (so there's enough features to see the general trend in variability).\n",
    "- Check out the ratio of variance explained by each principal component as well as the cumulative variance explained. Try plotting the cumulative or sequential values using matplotlib's [`plot()`](https://matplotlib.org/api/_as_gen/matplotlib.pyplot.plot.html) function. Based on what you find, select a value for the number of transformed features you'll retain for the clustering part of the project.\n",
    "- Once you've made a choice for the number of components to keep, make sure you re-fit a PCA instance to perform the decided-on transformation."
   ]
  },
  {
   "cell_type": "code",
   "execution_count": 40,
   "metadata": {},
   "outputs": [],
   "source": [
    "# Apply PCA to the data.\n",
    "my_pca = PCA(180)\n",
    "azdias_pca = my_pca.fit_transform(azdias_data)"
   ]
  },
  {
   "cell_type": "code",
   "execution_count": 35,
   "metadata": {},
   "outputs": [],
   "source": [
    "# Investigate the variance accounted for by each principal component.\n",
    "def scree_plot(pca):\n",
    "    '''\n",
    "    Creates a scree plot associated with the principal components \n",
    "    \n",
    "    INPUT: pca - the result of instantian of PCA in scikit learn\n",
    "            \n",
    "    OUTPUT:\n",
    "            None\n",
    "    '''\n",
    "    num_components=len(pca.explained_variance_ratio_)\n",
    "    ind = np.arange(num_components)\n",
    "    vals = pca.explained_variance_ratio_\n",
    " \n",
    "    plt.figure(figsize=(10, 6))\n",
    "    ax = plt.subplot(111)\n",
    "    cumvals = np.cumsum(vals)\n",
    "    ax.bar(ind, vals)\n",
    "    ax.plot(ind, cumvals)\n",
    "    for i in range(num_components):\n",
    "        ax.annotate(r\"%s%%\" % ((str(vals[i]*100)[:4])), (ind[i]+0.2, vals[i]), va=\"bottom\", ha=\"center\", fontsize=5)\n",
    " \n",
    "    ax.xaxis.set_tick_params(width=0)\n",
    "    ax.yaxis.set_tick_params(width=2, length=12)\n",
    " \n",
    "    ax.set_xlabel(\"Principal Component\")\n",
    "    ax.set_ylabel(\"Variance Explained (%)\")\n",
    "    plt.title('Explained Variance Per Principal Component')\n"
   ]
  },
  {
   "cell_type": "code",
   "execution_count": 41,
   "metadata": {},
   "outputs": [
    {
     "data": {
      "image/png": "[encoded data removed]",
      "text/plain": [
       "<matplotlib.figure.Figure at 0x7fa1b8624160>"
      ]
     },
     "metadata": {
      "needs_background": "light"
     },
     "output_type": "display_data"
    }
   ],
   "source": [
    "scree_plot(my_pca)"
   ]
  },
  {
   "cell_type": "markdown",
   "metadata": {},
   "source": [
    "PCA is applied to reduced the component to 180, which is number of around half of total features, the result contains over 85% of total information. \n",
    "To further reduce the components' number, PCA is applied that reduce features to components, and over 60% information is retained with this procedure.  "
   ]
  },
  {
   "cell_type": "markdown",
   "metadata": {},
   "source": [
    "### Step 1.1.3: Interpret Principal Components\n",
    "Now that we have our transformed principal components, it's a nice idea to check out the weight of each variable on the first few components to see if they can be interpreted in some fashion.\n",
    "\n",
    "As a reminder, each principal component is a unit vector that points in the direction of highest variance (after accounting for the variance captured by earlier principal components). The further a weight is from zero, the more the principal component is in the direction of the corresponding feature. If two features have large weights of the same sign (both positive or both negative), then increases in one tend expect to be associated with increases in the other. To contrast, features with different signs can be expected to show a negative correlation: increases in one variable should result in a decrease in the other.\n",
    "\n",
    "To investigate the features, map each weight to their corresponding feature name, then sort the features according to weight. The most interesting features for each principal component, then, will be those at the beginning and end of the sorted list."
   ]
  },
  {
   "cell_type": "code",
   "execution_count": 45,
   "metadata": {},
   "outputs": [],
   "source": [
    "pca = PCA(125)\n",
    "azdias_pca = pca.fit_transform(azdias_data)"
   ]
  },
  {
   "cell_type": "code",
   "execution_count": 47,
   "metadata": {},
   "outputs": [
    {
     "data": {
      "image/png": "[encoded data removed]",
      "text/plain": [
       "<matplotlib.figure.Figure at 0x7fa1bae4eda0>"
      ]
     },
     "metadata": {
      "needs_background": "light"
     },
     "output_type": "display_data"
    }
   ],
   "source": [
    "pca_results(azdias_sample, pca, 1)"
   ]
  },
  {
   "cell_type": "code",
   "execution_count": 48,
   "metadata": {},
   "outputs": [
    {
     "data": {
      "image/png": "[encoded data removed]",
      "text/plain": [
       "<matplotlib.figure.Figure at 0x7fa15671d908>"
      ]
     },
     "metadata": {
      "needs_background": "light"
     },
     "output_type": "display_data"
    }
   ],
   "source": [
    "pca_results(azdias_sample, pca, 2)"
   ]
  },
  {
   "cell_type": "markdown",
   "metadata": {},
   "source": [
    "## Step 1.2: Clustering\n",
    "### Step 1.2.1: Apply Clustering to General Population\n",
    "We've assessed and cleaned the demographics data, then scaled and transformed them. Now, it's time to see how the data clusters in the principal components space. In this substep, we will apply k-means clustering to the dataset and use the average within-cluster distances from each point to their assigned cluster's centroid to decide on a number of clusters to keep.\n",
    "\n",
    "Use sklearn's KMeans class to perform k-means clustering on the PCA-transformed data.\n",
    "Then, compute the average difference from each point to its assigned cluster's center. \n",
    "Perform the above two steps for a number of different cluster counts. we can then see how the average distance decreases with an increasing number of clusters. However, each additional cluster provides a smaller net benefit. Use this fact to select a final number of clusters in which to group the data. Warning: because of the large size of the dataset, it can take a long time for the algorithm to resolve. The more clusters to fit, the longer the algorithm will take."
   ]
  },
  {
   "cell_type": "code",
   "execution_count": 51,
   "metadata": {},
   "outputs": [],
   "source": [
    "# To avoid super long training time, record time of each training \n",
    "import time"
   ]
  },
  {
   "cell_type": "code",
   "execution_count": 52,
   "metadata": {},
   "outputs": [
    {
     "name": "stdout",
     "output_type": "stream",
     "text": [
      "time cost for k= 10  the calculation time is  137.06454992294312 s\n",
      "time cost for k= 12  the calculation time is  107.28474521636963 s\n",
      "time cost for k= 14  the calculation time is  128.54601311683655 s\n",
      "time cost for k= 16  the calculation time is  139.2239179611206 s\n",
      "time cost for k= 18  the calculation time is  152.2283492088318 s\n",
      "time cost for k= 22  the calculation time is  190.2558672428131 s\n",
      "time cost for k= 24  the calculation time is  197.88987922668457 s\n",
      "time cost for k= 26  the calculation time is  224.804137468338 s\n",
      "time cost for k= 28  the calculation time is  213.29807782173157 s\n",
      "time cost for k= 30  the calculation time is  275.4175434112549 s\n"
     ]
    }
   ],
   "source": [
    "with active_session():\n",
    "    \n",
    "    my_score = []\n",
    "    for ii in range(10, 31, 2):\n",
    "        begin = time.time()\n",
    "        my_kmean = KMeans(ii)\n",
    "        my_kmean = my_kmean.fit(azdias_pca)\n",
    "        my_score.append(np.abs(my_kmean.score(azdias_pca)))\n",
    "        # compute the average within-cluster distances.\n",
    "        end = time.time()\n",
    "        print('time cost for k=', str(ii), ' the calculation time is ', end-begin, 's')   "
   ]
  },
  {
   "cell_type": "code",
   "execution_count": 53,
   "metadata": {},
   "outputs": [
    {
     "data": {
      "image/png": "[encoded data removed]",
      "text/plain": [
       "<matplotlib.figure.Figure at 0x7fa1bad1c240>"
      ]
     },
     "metadata": {
      "needs_background": "light"
     },
     "output_type": "display_data"
    }
   ],
   "source": [
    "# Investigate the change in within-cluster distance across number of clusters.\n",
    "# HINT: Use matplotlib's plot function to visualize this relationship.\n",
    "plt.plot(range(10, 31, 2), my_score, marker='o', linestyle='-')\n",
    "plt.xlabel('K')\n",
    "plt.ylabel('Score')\n",
    "plt.title('score of KMean clusers')\n",
    "plt.show()"
   ]
  },
  {
   "cell_type": "code",
   "execution_count": 54,
   "metadata": {},
   "outputs": [
    {
     "name": "stdout",
     "output_type": "stream",
     "text": [
      "30474822.0662\n",
      "time cost for the calculation is  231.13235235214233 s\n"
     ]
    }
   ],
   "source": [
    "# With the elbow method, cluster numebr of 28 can be selected from above plots\n",
    "# Re-fit the k-means model with the selected number of clusters and obtain\n",
    "# cluster predictions for the general population demographics data.\n",
    "with active_session():\n",
    "    import time\n",
    "    begin = time.time()\n",
    "    my_kmean = KMeans(28)\n",
    "    my_kmean = my_kmean.fit(azdias_pca)\n",
    "    print(np.abs(my_kmean.score(azdias_pca)))\n",
    "    end = time.time()\n",
    "    print('time cost for the calculation is ', end-begin, 's')"
   ]
  },
  {
   "cell_type": "code",
   "execution_count": 55,
   "metadata": {},
   "outputs": [],
   "source": [
    "azdias_predict = my_kmean.predict(azdias_pca)"
   ]
  },
  {
   "cell_type": "markdown",
   "metadata": {},
   "source": [
    "### Step 1.2.2: Apply All Steps to the Customer Data\n",
    "Now that we have clusters and cluster centers for the general population, it's time to see how the customer data maps on to those clusters. "
   ]
  },
  {
   "cell_type": "code",
   "execution_count": 56,
   "metadata": {},
   "outputs": [],
   "source": [
    "# Apply imputer, scaler, and pca transform to customer dataset, then predict the data with kmean cluster \n",
    "customers_data = my_imputer.transform(customer)\n",
    "customers_data = my_scaler.transform(customers_data)\n",
    "customers_pca= pca.transform(customers_data)\n",
    "customers_pred = my_kmean.predict(customers_pca)"
   ]
  },
  {
   "cell_type": "markdown",
   "metadata": {},
   "source": [
    "### Step 3.3: Compare Customer Data to Demographics Data\n",
    "At this point, we have clustered data based on demographics of the general population of Germany, and seen how the customer data for a mail-order sales company maps onto those demographic clusters. In this final substep, we will compare the two cluster distributions to see where the strongest customer base for the company is.\n",
    "\n",
    "Consider the proportion of persons in each cluster for the general population, and the proportions for the customers. If we think the company's customer base to be universal, then the cluster assignment proportions should be fairly similar between the two. If there are only particular segments of the population that are interested in the company's products, then we should see a mismatch from one to the other. If there is a higher proportion of persons in a cluster for the customer data compared to the general population (e.g. 5% of persons are assigned to a cluster for the general population, but 15% of the customer data is closest to that cluster's centroid) then that suggests the people in that cluster to be a target audience for the company. On the other hand, the proportion of the data in a cluster being larger in the general population than the customer data (e.g. only 2% of customers closest to a population centroid that captures 6% of the data) suggests that group of persons to be outside of the target demographics.\n"
   ]
  },
  {
   "cell_type": "code",
   "execution_count": 60,
   "metadata": {},
   "outputs": [
    {
     "data": {
      "image/png": "[encoded data removed]",
      "text/plain": [
       "<matplotlib.figure.Figure at 0x7fa1bba8ff60>"
      ]
     },
     "metadata": {
      "needs_background": "light"
     },
     "output_type": "display_data"
    }
   ],
   "source": [
    "# Compare the proportion of data in each cluster for the customer data to the\n",
    "# proportion of data in each cluster for the general population.\n",
    "figure, axs = plt.subplots(nrows=1, ncols=2, figsize = (20,5))\n",
    "figure.subplots_adjust(hspace = 1, wspace=.3)\n",
    "\n",
    "sns.countplot(customers_pred, ax=axs[0])\n",
    "axs[0].set_title('Customer Clusters')\n",
    "sns.countplot(azdias_predict, ax=axs[1])\n",
    "axs[1].set_title('General Clusters')\n",
    "plt.show()"
   ]
  },
  {
   "cell_type": "code",
   "execution_count": 61,
   "metadata": {},
   "outputs": [
    {
     "data": {
      "text/plain": [
       "array([  0.63336966,   0.29115188,   1.31246999,   1.79797718,\n",
       "         0.17834958,   0.70577654,  17.75492938,   6.88246458,\n",
       "         0.15853296,  19.07273462,   0.24313468,   1.2027164 ,\n",
       "         4.07460195,   0.33002294,   1.38487687,   2.3612265 ,\n",
       "         2.07083679,   8.64614376,   2.36198867,   0.45502008,\n",
       "         1.6539256 ,   5.31161635,   1.97785112,   4.83373094,\n",
       "         0.34450432,   6.93734137,   0.30791979,   6.71478549])"
      ]
     },
     "execution_count": 61,
     "metadata": {},
     "output_type": "execute_result"
    }
   ],
   "source": [
    "np.bincount(customers_pred)/len(customers_pred)*100"
   ]
  },
  {
   "cell_type": "code",
   "execution_count": 65,
   "metadata": {},
   "outputs": [
    {
     "data": {
      "image/png": "[encoded data removed]",
      "text/plain": [
       "<matplotlib.figure.Figure at 0x7fa1ba75a2b0>"
      ]
     },
     "metadata": {
      "needs_background": "light"
     },
     "output_type": "display_data"
    },
    {
     "name": "stdout",
     "output_type": "stream",
     "text": [
      "[  0.13584023  -4.39027209  -2.16203504  -1.93007651  -3.67066937\n",
      "  -1.70396082  13.80886486   2.06367327  -2.51568777  14.16919929\n",
      "  -3.06598282  -3.08437449  -0.36010756  -3.92358039  -2.71905758\n",
      "  -1.20007282  -0.98063153   4.76500409  -1.33121062  -2.96276113\n",
      "  -1.90053953   2.92921577  -0.92668201   2.75476864  -3.90294824\n",
      "   2.90721624  -2.89116716   2.08803508]\n"
     ]
    }
   ],
   "source": [
    "plt.figure(figsize=(10, 6))\n",
    "ax = plt.subplot(111)\n",
    "ax.bar(range(1, 29), np.bincount(customers_pred)/len(customers_pred)*100 - np.bincount(azdias_predict)/len(azdias_predict)*100)\n",
    "ax.set_title('Customer percentage difference versus General at each cluster')\n",
    "ax.set_ylabel('Percentage')\n",
    "ax.set_xlabel('Cluster Number')\n",
    "ax.set_xticks(range(1, 29))\n",
    "plt.show()\n",
    "print(np.bincount(customers_pred)/len(customers_pred)*100 - np.bincount(azdias_predict)/len(azdias_predict)*100)"
   ]
  },
  {
   "cell_type": "code",
   "execution_count": 66,
   "metadata": {},
   "outputs": [],
   "source": [
    "def plot_scaled_comparison(df_sample, kmeans, cluster):\n",
    "    X = pd.DataFrame.from_dict(dict(zip(df_sample.columns,\n",
    "            pca.inverse_transform(kmeans.cluster_centers_[cluster]))), orient='index').rename(\n",
    "            columns={0: 'feature_values'}).sort_values('feature_values', ascending=False)\n",
    "    X['feature_values_abs'] = abs(X['feature_values'])\n",
    "    pd.concat((X['feature_values'][:10], X['feature_values'][-10:]), axis=0).plot(kind='barh');"
   ]
  },
  {
   "cell_type": "code",
   "execution_count": 67,
   "metadata": {},
   "outputs": [
    {
     "data": {
      "image/png": "[encoded data removed]",
      "text/plain": [
       "<matplotlib.figure.Figure at 0x7fa1ba7516d8>"
      ]
     },
     "metadata": {
      "needs_background": "light"
     },
     "output_type": "display_data"
    }
   ],
   "source": [
    "plot_scaled_comparison(customers, my_kmean, 7)"
   ]
  },
  {
   "cell_type": "code",
   "execution_count": 69,
   "metadata": {},
   "outputs": [
    {
     "name": "stdout",
     "output_type": "stream",
     "text": [
      "[-5.95  4.54  3.6   0.39  0.97  0.76  0.8   1.13 -0.45  0.05 -0.22  0.35\n",
      " -0.57 -0.71  0.02  0.05 -0.03 -0.44  0.55  0.03  0.15 -0.   -0.53  0.05\n",
      "  0.33 -0.03 -0.17  0.01 -0.22 -0.11  0.14  0.21  0.52  0.19  0.09  0.46\n",
      " -0.09 -0.17 -0.09 -0.04 -0.05  0.17 -0.28  0.03 -0.14 -0.18 -0.23  0.03\n",
      " -0.01 -0.17 -0.24  0.07 -0.08  0.08  0.03 -0.08 -0.16 -0.14  0.14 -0.07\n",
      "  0.03 -0.02  0.    0.04  0.13  0.07  0.03 -0.08 -0.02  0.03  0.08 -0.15\n",
      " -0.21  0.04 -0.08  0.01  0.11 -0.16 -0.05  0.03 -0.1  -0.    0.2  -0.15\n",
      " -0.01 -0.06  0.14 -0.02  0.26  0.14  0.04 -0.04 -0.05  0.01  0.05 -0.03\n",
      " -0.05 -0.05 -0.13  0.04 -0.03  0.01  0.14  0.04 -0.17  0.13  0.11  0.\n",
      " -0.12 -0.2   0.01 -0.05 -0.    0.04 -0.01 -0.    0.06 -0.05  0.06  0.05\n",
      "  0.02  0.   -0.03  0.07  0.03]\n",
      "[-5.95 -0.71 -0.57 -0.53 -0.45 -0.44 -0.28 -0.24 -0.23 -0.22 -0.22 -0.21\n",
      " -0.2  -0.18 -0.17 -0.17 -0.17 -0.17 -0.16 -0.16 -0.15 -0.15 -0.14 -0.14\n",
      " -0.13 -0.12 -0.11 -0.1  -0.09 -0.09 -0.08 -0.08 -0.08 -0.08 -0.07 -0.06\n",
      " -0.05 -0.05 -0.05 -0.05 -0.05 -0.05 -0.05 -0.04 -0.04 -0.03 -0.03 -0.03\n",
      " -0.03 -0.03 -0.02 -0.02 -0.02 -0.01 -0.01 -0.01 -0.    0.   -0.   -0.    0.\n",
      "  0.   -0.    0.01  0.01  0.01  0.01  0.01  0.02  0.02  0.03  0.03  0.03\n",
      "  0.03  0.03  0.03  0.03  0.03  0.03  0.04  0.04  0.04  0.04  0.04  0.04\n",
      "  0.05  0.05  0.05  0.05  0.05  0.06  0.06  0.07  0.07  0.07  0.08  0.08\n",
      "  0.09  0.11  0.11  0.13  0.13  0.14  0.14  0.14  0.14  0.14  0.15  0.17\n",
      "  0.19  0.2   0.21  0.26  0.33  0.35  0.39  0.46  0.52  0.55  0.76  0.8\n",
      "  0.97  1.13  3.6   4.54]\n",
      "['AGER_TYP', 'AKT_DAT_KL', 'ALTER_HH', 'ALTER_KIND1', 'ALTER_KIND2', 'ALTER_KIND3', 'ALTER_KIND4', 'ALTERSKATEGORIE_FEIN', 'ANZ_HAUSHALTE_AKTIV', 'ANZ_HH_TITEL', 'ANZ_KINDER', 'ANZ_PERSONEN', 'ANZ_STATISTISCHE_HAUSHALTE', 'ANZ_TITEL', 'ARBEIT', 'BALLRAUM', 'CAMEO_DEU_2015', 'CAMEO_DEUG_2015', 'CAMEO_INTL_2015', 'CJT_GESAMTTYP', 'CJT_KATALOGNUTZER', 'CJT_TYP_1', 'CJT_TYP_2', 'CJT_TYP_3', 'CJT_TYP_4', 'CJT_TYP_5', 'CJT_TYP_6', 'D19_BANKEN_ANZ_12', 'D19_BANKEN_ANZ_24', 'D19_BANKEN_DATUM', 'D19_BANKEN_DIREKT', 'D19_BANKEN_GROSS', 'D19_BANKEN_LOKAL', 'D19_BANKEN_OFFLINE_DATUM', 'D19_BANKEN_ONLINE_DATUM', 'D19_BANKEN_ONLINE_QUOTE_12', 'D19_BANKEN_REST', 'D19_BEKLEIDUNG_GEH', 'D19_BEKLEIDUNG_REST', 'D19_BILDUNG', 'D19_BIO_OEKO', 'D19_BUCH_CD', 'D19_DIGIT_SERV', 'D19_DROGERIEARTIKEL', 'D19_ENERGIE', 'D19_FREIZEIT', 'D19_GARTEN', 'D19_GESAMT_ANZ_12', 'D19_GESAMT_ANZ_24', 'D19_GESAMT_DATUM', 'D19_GESAMT_OFFLINE_DATUM', 'D19_GESAMT_ONLINE_DATUM', 'D19_GESAMT_ONLINE_QUOTE_12', 'D19_HANDWERK', 'D19_HAUS_DEKO', 'D19_KINDERARTIKEL', 'D19_KONSUMTYP', 'D19_KONSUMTYP_MAX', 'D19_KOSMETIK', 'D19_LEBENSMITTEL', 'D19_LETZTER_KAUF_BRANCHE', 'D19_LOTTO', 'D19_NAHRUNGSERGAENZUNG', 'D19_RATGEBER', 'D19_REISEN', 'D19_SAMMELARTIKEL', 'D19_SCHUHE', 'D19_SONSTIGE', 'D19_SOZIALES', 'D19_TECHNIK', 'D19_TELKO_ANZ_12', 'D19_TELKO_ANZ_24', 'D19_TELKO_DATUM', 'D19_TELKO_MOBILE', 'D19_TELKO_OFFLINE_DATUM', 'D19_TELKO_ONLINE_DATUM', 'D19_TELKO_ONLINE_QUOTE_12', 'D19_TELKO_REST', 'D19_TIERARTIKEL', 'D19_VERSAND_ANZ_12', 'D19_VERSAND_ANZ_24', 'D19_VERSAND_DATUM', 'D19_VERSAND_OFFLINE_DATUM', 'D19_VERSAND_ONLINE_DATUM', 'D19_VERSAND_ONLINE_QUOTE_12', 'D19_VERSAND_REST', 'D19_VERSI_ANZ_12', 'D19_VERSI_ANZ_24', 'D19_VERSI_DATUM', 'D19_VERSI_OFFLINE_DATUM', 'D19_VERSI_ONLINE_DATUM', 'D19_VERSI_ONLINE_QUOTE_12', 'D19_VERSICHERUNGEN', 'D19_VOLLSORTIMENT', 'D19_WEIN_FEINKOST', 'DSL_FLAG', 'EINGEFUEGT_AM', 'EINGEZOGENAM_HH_JAHR', 'EWDICHTE', 'EXTSEL992', 'FINANZ_ANLEGER', 'FINANZ_HAUSBAUER', 'FINANZ_MINIMALIST', 'FINANZ_SPARER', 'FINANZ_UNAUFFAELLIGER', 'FINANZ_VORSORGER', 'FINANZTYP', 'FIRMENDICHTE', 'GEBAEUDETYP', 'GEBAEUDETYP_RASTER', 'GEBURTSJAHR', 'GEMEINDETYP', 'GFK_URLAUBERTYP', 'GREEN_AVANTGARDE', 'HEALTH_TYP', 'HH_DELTA_FLAG', 'HH_EINKOMMEN_SCORE', 'INNENSTADT', 'KBA05_ALTER1', 'KBA05_ALTER2', 'KBA05_ALTER3', 'KBA05_ALTER4', 'KBA05_ANHANG', 'KBA05_ANTG1', 'KBA05_ANTG2', 'KBA05_ANTG3', 'KBA05_ANTG4', 'KBA05_AUTOQUOT', 'KBA05_BAUMAX', 'KBA05_CCM1', 'KBA05_CCM2', 'KBA05_CCM3', 'KBA05_CCM4', 'KBA05_DIESEL', 'KBA05_FRAU', 'KBA05_GBZ', 'KBA05_HERST1', 'KBA05_HERST2', 'KBA05_HERST3', 'KBA05_HERST4', 'KBA05_HERST5', 'KBA05_HERSTTEMP', 'KBA05_KRSAQUOT', 'KBA05_KRSHERST1', 'KBA05_KRSHERST2', 'KBA05_KRSHERST3', 'KBA05_KRSKLEIN', 'KBA05_KRSOBER', 'KBA05_KRSVAN', 'KBA05_KRSZUL', 'KBA05_KW1', 'KBA05_KW2', 'KBA05_KW3', 'KBA05_MAXAH', 'KBA05_MAXBJ', 'KBA05_MAXHERST', 'KBA05_MAXSEG', 'KBA05_MAXVORB', 'KBA05_MOD1', 'KBA05_MOD2', 'KBA05_MOD3', 'KBA05_MOD4', 'KBA05_MOD8', 'KBA05_MODTEMP', 'KBA05_MOTOR', 'KBA05_MOTRAD', 'KBA05_SEG1', 'KBA05_SEG10', 'KBA05_SEG2', 'KBA05_SEG3', 'KBA05_SEG4', 'KBA05_SEG5', 'KBA05_SEG6', 'KBA05_SEG7', 'KBA05_SEG8', 'KBA05_SEG9', 'KBA05_VORB0', 'KBA05_VORB1', 'KBA05_VORB2', 'KBA05_ZUL1', 'KBA05_ZUL2', 'KBA05_ZUL3', 'KBA05_ZUL4', 'KBA13_ALTERHALTER_30', 'KBA13_ALTERHALTER_45', 'KBA13_ALTERHALTER_60', 'KBA13_ALTERHALTER_61', 'KBA13_ANTG1', 'KBA13_ANTG2', 'KBA13_ANTG3', 'KBA13_ANTG4', 'KBA13_ANZAHL_PKW', 'KBA13_AUDI', 'KBA13_AUTOQUOTE', 'KBA13_BAUMAX', 'KBA13_BJ_1999', 'KBA13_BJ_2000', 'KBA13_BJ_2004', 'KBA13_BJ_2006', 'KBA13_BJ_2008', 'KBA13_BJ_2009', 'KBA13_BMW', 'KBA13_CCM_0_1400', 'KBA13_CCM_1000', 'KBA13_CCM_1200', 'KBA13_CCM_1400', 'KBA13_CCM_1401_2500', 'KBA13_CCM_1500', 'KBA13_CCM_1600', 'KBA13_CCM_1800', 'KBA13_CCM_2000', 'KBA13_CCM_2500', 'KBA13_CCM_2501', 'KBA13_CCM_3000', 'KBA13_CCM_3001', 'KBA13_FAB_ASIEN', 'KBA13_FAB_SONSTIGE', 'KBA13_FIAT', 'KBA13_FORD', 'KBA13_GBZ', 'KBA13_HALTER_20', 'KBA13_HALTER_25', 'KBA13_HALTER_30', 'KBA13_HALTER_35', 'KBA13_HALTER_40', 'KBA13_HALTER_45', 'KBA13_HALTER_50', 'KBA13_HALTER_55', 'KBA13_HALTER_60', 'KBA13_HALTER_65', 'KBA13_HALTER_66', 'KBA13_HERST_ASIEN', 'KBA13_HERST_AUDI_VW', 'KBA13_HERST_BMW_BENZ', 'KBA13_HERST_EUROPA', 'KBA13_HERST_FORD_OPEL', 'KBA13_HERST_SONST', 'KBA13_HHZ', 'KBA13_KMH_0_140', 'KBA13_KMH_110', 'KBA13_KMH_140', 'KBA13_KMH_140_210', 'KBA13_KMH_180', 'KBA13_KMH_210', 'KBA13_KMH_211', 'KBA13_KMH_250', 'KBA13_KMH_251', 'KBA13_KRSAQUOT', 'KBA13_KRSHERST_AUDI_VW', 'KBA13_KRSHERST_BMW_BENZ', 'KBA13_KRSHERST_FORD_OPEL', 'KBA13_KRSSEG_KLEIN', 'KBA13_KRSSEG_OBER', 'KBA13_KRSSEG_VAN', 'KBA13_KRSZUL_NEU', 'KBA13_KW_0_60', 'KBA13_KW_110', 'KBA13_KW_120', 'KBA13_KW_121', 'KBA13_KW_30', 'KBA13_KW_40', 'KBA13_KW_50', 'KBA13_KW_60', 'KBA13_KW_61_120', 'KBA13_KW_70', 'KBA13_KW_80', 'KBA13_KW_90', 'KBA13_MAZDA', 'KBA13_MERCEDES', 'KBA13_MOTOR', 'KBA13_NISSAN', 'KBA13_OPEL', 'KBA13_PEUGEOT', 'KBA13_RENAULT', 'KBA13_SEG_GELAENDEWAGEN', 'KBA13_SEG_GROSSRAUMVANS', 'KBA13_SEG_KLEINST', 'KBA13_SEG_KLEINWAGEN', 'KBA13_SEG_KOMPAKTKLASSE', 'KBA13_SEG_MINIVANS', 'KBA13_SEG_MINIWAGEN', 'KBA13_SEG_MITTELKLASSE', 'KBA13_SEG_OBEREMITTELKLASSE', 'KBA13_SEG_OBERKLASSE', 'KBA13_SEG_SONSTIGE', 'KBA13_SEG_SPORTWAGEN', 'KBA13_SEG_UTILITIES', 'KBA13_SEG_VAN', 'KBA13_SEG_WOHNMOBILE', 'KBA13_SITZE_4', 'KBA13_SITZE_5', 'KBA13_SITZE_6', 'KBA13_TOYOTA', 'KBA13_VORB_0', 'KBA13_VORB_1', 'KBA13_VORB_1_2', 'KBA13_VORB_2', 'KBA13_VORB_3', 'KBA13_VW', 'KK_KUNDENTYP', 'KKK', 'KOMBIALTER', 'KONSUMNAEHE', 'KONSUMZELLE', 'LP_FAMILIE_FEIN', 'LP_FAMILIE_GROB', 'LP_LEBENSPHASE_FEIN', 'LP_LEBENSPHASE_GROB', 'LP_STATUS_FEIN', 'LP_STATUS_GROB', 'MIN_GEBAEUDEJAHR', 'MOBI_RASTER', 'MOBI_REGIO', 'NATIONALITAET_KZ', 'ONLINE_AFFINITAET', 'ORTSGR_KLS9', 'OST_WEST_KZ', 'PLZ8_ANTG1', 'PLZ8_ANTG2', 'PLZ8_ANTG3', 'PLZ8_ANTG4', 'PLZ8_BAUMAX', 'PLZ8_GBZ', 'PLZ8_HHZ', 'PRAEGENDE_JUGENDJAHRE', 'REGIOTYP', 'RELAT_AB', 'RETOURTYP_BK_S', 'RT_KEIN_ANREIZ', 'RT_SCHNAEPPCHEN', 'RT_UEBERGROESSE', 'SEMIO_DOM', 'SEMIO_ERL', 'SEMIO_FAM', 'SEMIO_KAEM', 'SEMIO_KRIT', 'SEMIO_KULT', 'SEMIO_LUST', 'SEMIO_MAT', 'SEMIO_PFLICHT', 'SEMIO_RAT', 'SEMIO_REL', 'SEMIO_SOZ', 'SEMIO_TRADV', 'SEMIO_VERT', 'SHOPPER_TYP', 'SOHO_KZ', 'STRUKTURTYP', 'TITEL_KZ', 'UMFELD_ALT', 'UMFELD_JUNG', 'UNGLEICHENN_FLAG', 'VERDICHTUNGSRAUM', 'VERS_TYP', 'VHA', 'VHN', 'VK_DHT4A', 'VK_DISTANZ', 'VK_ZG11', 'W_KEIT_KIND_HH', 'WOHNDAUER_2008', 'WOHNLAGE', 'ZABEOTYP', 'ANREDE_KZ', 'ALTERSKATEGORIE_GROB']\n",
      "\n",
      " Top three correlated features are \n",
      "-----\n",
      " PLZ8_GBZ  D19_TELKO_OFFLINE_DATUM D19_KOSMETIK\n"
     ]
    }
   ],
   "source": [
    "# sanity check\n",
    "cluster = 7;\n",
    "cluster_center = np.around(my_kmean.cluster_centers_[cluster-1], decimals=2)\n",
    "clusters_sorted = cluster_center[np.argsort(cluster_center)[:]]\n",
    "print(cluster_center)\n",
    "print(clusters_sorted)\n",
    "pca_pre = np.around(pca.inverse_transform(my_kmean.cluster_centers_[cluster-1]), decimals=2)\n",
    "pca_pre_index = np.argsort(pca_pre)\n",
    "pca_pre_sorted = pca_pre[np.argsort(pca_pre)[:]]\n",
    "feature_customer_pre = list(azdias.columns.values)\n",
    "print(list(customers.columns.values))\n",
    "print('\\n Top three correlated features are \\n-----\\n %s '% feature_customer_pre[pca_pre_index[0]], \\\n",
    "          feature_customer_pre[pca_pre_index[1]], feature_customer_pre[pca_pre_index[2]])"
   ]
  },
  {
   "cell_type": "code",
   "execution_count": 68,
   "metadata": {},
   "outputs": [],
   "source": [
    "# check the component values of each cluster, \n",
    "\n",
    "def cluster_centers(cluster, features):\n",
    "    cluster_center = np.around(my_kmean.cluster_centers_[cluster-1], decimals=2)\n",
    "    clusters_sorted = cluster_center[np.argsort(cluster_center)[:]]\n",
    "    pca_pre = np.around(pca.inverse_transform(my_kmean.cluster_centers_[cluster-1]), decimals=2)\n",
    "    pca_pre_index = np.argsort(pca_pre)\n",
    "    pca_pre_sorted = pca_pre[np.argsort(pca_pre)[:]]\n",
    "    print('Cluster %s' % cluster)\n",
    "    print('sorted array\\n-----\\n Top 3: %s \\n Bottom 3: %s '% (np.flip(clusters_sorted[-3:],0), clusters_sorted[:3]))\n",
    "    print('\\n original array\\n-----\\n %s'% cluster_center)\n",
    "    \n",
    "    print('PCA sorted\\n-----\\n Top 3: %s \\n Bottom 3: %s '% (np.flip(pca_pre_sorted[-3:],0), pca_pre_sorted[:3]))\n",
    "    print('\\n pre PCA is \\n-----\\n %s'% pca_pre)\n",
    "    print('\\n Top three correlated features are \\n-----\\n %s '% features[pca_pre_index[0]], \\\n",
    "          features[pca_pre_index[1]], features[pca_pre_index[2]])\n",
    "    print('\\n Top three negative correlated features are \\n-----\\n %s'% features[pca_pre_index[-1]], \\\n",
    "          features[pca_pre_index[-2]], features[pca_pre_index[-3]])"
   ]
  },
  {
   "cell_type": "code",
   "execution_count": 73,
   "metadata": {},
   "outputs": [
    {
     "name": "stdout",
     "output_type": "stream",
     "text": [
      "Cluster 10\n",
      "sorted array\n",
      "-----\n",
      " Top 3: [ 3.14  1.26  0.78] \n",
      " Bottom 3: [-5.68 -1.63 -1.24] \n",
      "\n",
      " original array\n",
      "-----\n",
      " [-5.68  0.51  1.26  3.14 -1.63 -0.41  0.78  0.31  0.26 -0.08 -1.24 -0.09\n",
      " -0.27 -0.93 -0.07  0.26  0.35  0.   -0.08 -0.14 -0.26  0.04 -0.14 -0.23\n",
      "  0.23  0.15 -0.15  0.15 -0.08  0.26  0.06  0.18  0.2   0.14 -0.04  0.4\n",
      " -0.11 -0.26  0.12 -0.01  0.02  0.11 -0.12  0.04  0.2   0.01 -0.1   0.08\n",
      " -0.06  0.06 -0.02  0.02 -0.04  0.11 -0.   -0.12 -0.1  -0.13  0.02 -0.01\n",
      " -0.07  0.03  0.01  0.06  0.07 -0.02  0.1  -0.   -0.11 -0.1  -0.01 -0.05\n",
      "  0.11 -0.03  0.03  0.03  0.03  0.06 -0.09 -0.04  0.06  0.05 -0.08  0.07\n",
      " -0.01  0.03 -0.1   0.01 -0.06 -0.07 -0.04 -0.04  0.07 -0.04  0.02 -0.04\n",
      " -0.02  0.01  0.02 -0.08 -0.    0.03 -0.07  0.06  0.   -0.09  0.03  0.02\n",
      "  0.03  0.06  0.05 -0.06 -0.03  0.04 -0.03  0.   -0.01  0.02 -0.04 -0.03\n",
      "  0.1  -0.05 -0.03 -0.03 -0.02]\n",
      "PCA sorted\n",
      "-----\n",
      " Top 3: [ 1.33  1.27  1.24] \n",
      " Bottom 3: [-1.17 -1.15 -1.13] \n",
      "\n",
      " pre PCA is \n",
      "-----\n",
      " [-0.7  -0.43 -0.11  0.11  1.04 -0.42  0.1  -0.19  0.03 -0.71 -0.02 -0.29\n",
      " -0.6  -0.72  0.51  0.43  0.6   0.4   0.31  0.23  0.03  0.25  0.52  0.55\n",
      "  0.42  0.24  0.7   0.14  0.35  0.24  0.3   0.22  0.62  0.58  0.44 -0.84\n",
      "  0.61  0.26  0.23  0.36  0.66  0.54  0.35  0.76  0.75  0.32 -0.25  0.25\n",
      "  0.15  0.3  -0.4  -0.11 -0.08  0.39  0.67  0.39  0.08 -0.65 -0.04 -0.64\n",
      " -0.8   1.11 -0.78 -0.42  0.68  0.35  0.28 -0.3   0.32  0.25  0.02 -0.25\n",
      "  1.19 -0.12  0.19 -1.15  0.13 -0.35 -0.15  0.26  0.22  0.33  0.88 -0.1\n",
      " -0.57 -0.42  0.6  -0.05 -0.14  0.18  0.14  0.2   0.05  0.64  0.2   0.02\n",
      "  0.06 -0.03 -0.07  0.02  0.56  0.1   0.   -0.03  0.08  0.09  0.18  0.24\n",
      " -0.14  0.07  0.2   0.3   0.28 -0.11 -0.05 -0.32  0.21  0.01 -0.05  0.16\n",
      "  0.37  0.05  0.17  0.35  0.2   0.36  0.08 -0.22 -0.02  0.19  0.09  0.18\n",
      "  0.23  0.33  0.38  0.03 -0.32 -0.32  0.08  0.25  0.27 -0.36 -0.17  0.24\n",
      "  0.17  0.52 -0.07 -0.37 -0.45  0.48 -0.06  0.29 -0.54 -0.11 -0.19  0.1\n",
      "  0.16  0.12  0.07  0.09 -0.03 -0.05 -0.    0.03  0.05  0.03 -0.   -0.01\n",
      "  0.1   0.02  0.02  0.11  0.12 -0.09 -0.27  0.15  0.13  0.65  0.05 -0.23\n",
      " -0.4  -0.37 -0.18  0.15  0.21  0.26  0.19  0.24  0.13 -0.07 -0.05  0.17\n",
      "  0.08  0.14 -0.27  0.32 -0.03 -0.03  0.1   0.01  0.03  0.01 -0.01 -0.01\n",
      " -0.02  0.22 -0.06  0.07  0.01  0.07  0.15  0.26  0.15 -0.01  0.06  0.06\n",
      " -0.03 -0.   -0.06  0.03  0.02  0.05  0.   -0.03  0.04 -0.04  0.22  0.2\n",
      " -0.05  0.07  0.09 -0.03  0.2   0.37  0.15  0.01 -0.36  0.31  0.31 -0.25\n",
      "  0.12  0.02 -0.12  0.24  0.13  0.37  0.19  0.35 -0.36  0.29  0.04  0.16\n",
      "  0.12  0.02 -0.08 -0.13 -0.02 -0.21  0.28  0.24 -0.3   1.06  1.08  1.33\n",
      "  1.27  1.17  1.24  0.03  0.65  0.81 -0.34  0.65 -0.09  0.41  0.55 -0.18\n",
      " -0.39 -0.44 -0.54  0.65  0.33 -0.21 -0.15  0.15 -0.89  0.04 -0.08  0.1\n",
      "  0.38 -0.43  0.07 -0.1  -0.36  0.39 -0.46 -0.52 -0.41 -0.57 -0.15 -0.45\n",
      "  0.16  0.15 -0.01  0.2   0.02  0.35  0.21  0.    0.01  0.57 -0.12 -1.\n",
      " -1.13 -1.09 -0.45  0.43 -0.3  -0.92  0.03  0.5  -0.27 -0.22 -0.52 -1.17\n",
      "  0.05  0.08  0.07  0.14  0.1   0.25  0.04  0.26  0.33  0.14 -0.03  0.18\n",
      "  0.11  0.08 -0.    0.14  0.13  0.07 -0.05  0.   -0.05 -0.09  0.03  0.09\n",
      " -0.06  0.04  0.01 -0.   -0.14 -0.02 -0.08 -0.08 -0.04 -0.09 -0.05 -0.22\n",
      " -0.19 -0.12 -0.14 -0.11 -0.16 -0.13 -0.17 -0.07]\n",
      "\n",
      " Top three correlated features are \n",
      "-----\n",
      " PRAEGENDE_MOVEMENT  HH_EINKOMMEN_SCORE VK_DISTANZ\n",
      "\n",
      " Top three negative correlated features are \n",
      "-----\n",
      " LP_LEBENSPHASE_FEIN LP_LEBENSPHASE_GROB LP_STATUS_GROB\n"
     ]
    }
   ],
   "source": [
    "features_pre = list(azdias_sample.columns.values)\n",
    "cluster_centers(10, features_pre)"
   ]
  },
  {
   "cell_type": "code",
   "execution_count": 74,
   "metadata": {},
   "outputs": [
    {
     "name": "stdout",
     "output_type": "stream",
     "text": [
      "Cluster 2\n",
      "sorted array\n",
      "-----\n",
      " Top 3: [ 1.69  1.54  1.36] \n",
      " Bottom 3: [-4.26 -2.96 -2.35] \n",
      "\n",
      " original array\n",
      "-----\n",
      " [ 1.54  1.69 -4.26 -2.35  1.36 -2.96  0.95  0.28  0.35 -0.38 -0.19 -0.24\n",
      " -0.25  0.09 -0.12 -0.08 -0.25  0.1  -0.19 -0.05 -0.2   0.19 -0.11  0.3\n",
      "  0.15 -0.1   0.09 -0.04 -0.09 -0.06  0.03  0.01  0.24 -0.07 -0.14  0.\n",
      " -0.11 -0.02  0.22  0.2  -0.06 -0.07  0.03  0.   -0.11  0.02  0.04 -0.02\n",
      " -0.12 -0.06  0.02  0.05 -0.03 -0.08 -0.18 -0.29 -0.08  0.09 -0.12 -0.13\n",
      " -0.01  0.04 -0.1  -0.17  0.03  0.01  0.04 -0.09  0.1   0.01 -0.04  0.\n",
      "  0.07  0.02 -0.01 -0.05  0.08  0.02  0.01 -0.03 -0.02 -0.04  0.02 -0.01\n",
      " -0.03 -0.06  0.   -0.   -0.03 -0.01 -0.03 -0.02 -0.01  0.    0.03 -0.07\n",
      " -0.05  0.04  0.03  0.03 -0.07 -0.05  0.02  0.07 -0.02  0.05  0.02 -0.01\n",
      "  0.02 -0.02  0.04  0.05  0.05 -0.02  0.03  0.01 -0.08  0.03  0.01 -0.03\n",
      "  0.09 -0.08  0.02 -0.01 -0.01]\n",
      "PCA sorted\n",
      "-----\n",
      " Top 3: [ 1.31  1.25  1.13] \n",
      " Bottom 3: [-1.2  -1.19 -1.11] \n",
      "\n",
      " pre PCA is \n",
      "-----\n",
      " [ 0.58 -0.03 -0.06 -0.   -0.39 -0.03 -0.04 -0.12 -0.06  0.04  0.27 -0.94\n",
      "  1.25  1.13 -1.11 -0.86 -1.06 -1.2  -0.15 -0.11 -0.07 -0.14 -0.15 -0.13\n",
      " -0.22 -0.18 -0.23 -0.1  -0.07 -0.14 -0.15 -0.18 -0.3  -0.19 -0.12  0.34\n",
      " -0.21 -0.17 -0.19 -0.18 -0.35 -0.29 -0.03 -0.37 -0.32 -0.12  0.16 -0.1\n",
      " -0.07 -0.04  0.22  0.09  0.05 -0.17 -0.29 -0.21  0.08  0.56  0.15  0.94\n",
      "  0.35 -1.19  1.03  1.06 -0.91 -0.9  -0.01  0.09  0.05  0.08 -0.14  0.26\n",
      " -0.31  0.08 -0.15  0.41  0.01  0.07  0.13 -0.1  -0.08 -0.22 -0.22  0.37\n",
      "  0.21 -0.05 -0.15  0.05 -0.08  0.05 -0.    0.03  0.2  -0.19  0.04 -0.01\n",
      "  0.06  0.01 -0.05  0.05 -0.22 -0.12 -0.06  0.04  0.14 -0.1  -0.11  0.04\n",
      "  0.   -0.01  0.03 -0.12  0.08  0.01 -0.08 -0.03  0.03 -0.04  0.03  0.13\n",
      "  0.    0.02  0.   -0.02  0.13  0.04  0.11 -0.1  -0.05  0.02 -0.02 -0.08\n",
      "  0.12  0.01  0.01  0.07 -0.01 -0.05 -0.05  0.09  0.07 -0.31 -0.15 -0.02\n",
      "  0.32  0.18  0.21 -0.04 -0.2   0.37  0.07  0.07 -0.32 -0.21 -0.25  0.09\n",
      "  0.16  0.14  0.15  0.29 -0.17 -0.13 -0.13 -0.14  0.03 -0.04 -0.06  0.01\n",
      "  0.18  0.19  0.23  0.29  0.23 -0.18 -0.25  0.24  0.01  0.45 -0.1  -0.25\n",
      " -0.29 -0.23 -0.15  0.03 -0.04  0.03  0.03  0.32  0.29 -0.15 -0.01  0.37\n",
      "  0.06 -0.06 -0.25  0.33 -0.07 -0.08  0.03 -0.25 -0.23  0.11  0.26  0.26\n",
      "  0.07  0.09 -0.03  0.27 -0.12 -0.01  0.17  0.19  0.23 -0.23  0.18  0.16\n",
      "  0.23 -0.06 -0.16 -0.1  -0.11  0.11 -0.02 -0.08  0.05 -0.06  0.37  0.14\n",
      " -0.08 -0.08  0.05 -0.07  0.14  0.3  -0.04 -0.16 -0.35  0.2   0.24 -0.09\n",
      "  0.29  0.23 -0.14  0.35  0.09  0.27  0.19  0.38 -0.39  0.25  0.03  0.26\n",
      "  0.09 -0.08 -0.19 -0.17 -0.03 -0.13 -0.83 -0.1  -0.05 -0.35 -0.35 -0.58\n",
      " -0.53 -0.61 -0.67 -0.17 -0.25 -0.23  0.36  0.1   0.07  0.41  0.2   0.13\n",
      " -0.07 -0.19 -0.34  0.45  0.33 -0.07  0.02 -0.71  0.66 -0.26  0.72  0.97\n",
      " -0.12 -0.29  0.96  0.69 -0.19 -0.75  0.48  0.95  1.31  0.49 -0.63  1.06\n",
      " -1.03  0.16  0.02  0.3   0.15 -0.2  -0.    0.07  0.19 -0.28  0.03  0.29\n",
      "  0.61  0.89 -0.14 -0.42 -0.27  0.66  1.04 -1.01  0.   -0.01  1.04  0.32\n",
      "  0.02 -0.   -0.04 -0.03 -0.05 -0.07 -0.12 -0.08 -0.   -0.05 -0.06  0.04\n",
      " -0.   -0.09 -0.06  0.06  0.07 -0.05  0.09 -0.02 -0.01 -0.08  0.01  0.\n",
      " -0.02  0.27  0.11 -0.03 -0.05 -0.02  0.14  0.08  0.03 -0.05 -0.05 -0.\n",
      "  0.03  0.01 -0.07 -0.01 -0.09 -0.09 -0.03 -0.06]\n",
      "\n",
      " Top three correlated features are \n",
      "-----\n",
      " CJT_TYP_6  FINANZ_MINIMALIST CJT_TYP_3\n",
      "\n",
      " Top three negative correlated features are \n",
      "-----\n",
      " SEMIO_RAT CJT_TYP_1 CJT_TYP_2\n"
     ]
    }
   ],
   "source": [
    "# customer data compared to the general population?\n",
    "cluster_centers(2, features_pre)"
   ]
  },
  {
   "cell_type": "markdown",
   "metadata": {},
   "source": [
    "### Step 3.4: Subconclusion: Unsupervised Learning Findings\n",
    "\n",
    "The total counts of each cluster for General and Customer dataset are plotted respectively, I then differentiate the percentage of Customer results from General results, and found that Cluster10 is overpresented with a difference of 14.16%, and Cluster2 is underpresented with a difference of -4.39%. Then the features that correlated to the two clusters are further investigated through inverse transformation of PCA.\n",
    "\n",
    "On Cluster10, we find PRAEGENDE_MOVEMENT is the highest impacted feature, which represented a dominating movement of a person's youth, and HH_EINKOMMEN_SCORE is the 2nd, it shows the income of a household also impact the customer distribution.VK_DISTANZ is the 3rd positive impact factor. While the negatively correlated features are: LP_LEBENSPHASE_FEIN LP_LEBENSPHASE_GROB LP_STATUS_GROB, it shows the financial type of prepared people is more tend to be customer, the higher-income families are more likely to be a potential customer.\n",
    "On Cluster2, the highest impacted feature CJT_TYP_6 FINANZ_MINIMALIST CJT_TYP_3, it shows advertising strategy is important, while store-shopper and Advertising-Enthusiast with restricted Cross-Channel-Behaviour are important features. On the negative correlation features, CJT_TYP_1 and CJT_TYP_2 show that advertising method of Consumptiontraditionalist and Consumptionminimalist are less likely to be potential customers, and SEMIO_RAT shows rational personality people are less likely to be the customer."
   ]
  },
  {
   "cell_type": "markdown",
   "metadata": {},
   "source": [
    "## Part 2: Supervised Learning Model\n",
    "\n",
    "Now that we've found which parts of the population are more likely to be customers of the mail-order company, it's time to build a prediction model. Each of the rows in the \"MAILOUT\" data files represents an individual that was targeted for a mailout campaign. Ideally, we should be able to use the demographic information from each individual to decide whether or not it will be worth it to include that person in the campaign.\n",
    "\n",
    "The \"MAILOUT\" data has been split into two approximately equal parts, each with almost 43 000 data rows. In this part, we can verify the model with the \"TRAIN\" partition, which includes a column, \"RESPONSE\", that states whether or not a person became a customer of the company following the campaign. In the next part, we'll need to create predictions on the \"TEST\" partition, where the \"RESPONSE\" column has been withheld."
   ]
  },
  {
   "cell_type": "markdown",
   "metadata": {},
   "source": [
    "### Part 2.1: Load Data for Supervised Learning"
   ]
  },
  {
   "cell_type": "code",
   "execution_count": 40,
   "metadata": {},
   "outputs": [],
   "source": [
    "mailout_train = pd.read_csv('../../data/Term2/capstone/arvato_data/Udacity_MAILOUT_052018_TRAIN.csv', sep=';', dtype={18:'str',19:'str'})"
   ]
  },
  {
   "cell_type": "code",
   "execution_count": 42,
   "metadata": {},
   "outputs": [],
   "source": [
    "mailout_test = pd.read_csv('../../data/Term2/capstone/arvato_data/Udacity_MAILOUT_052018_TEST.csv', sep=';', dtype={18:'str',19:'str'})"
   ]
  },
  {
   "cell_type": "code",
   "execution_count": 5,
   "metadata": {},
   "outputs": [
    {
     "data": {
      "text/html": [
       "<div>\n",
       "<style scoped>\n",
       "    .dataframe tbody tr th:only-of-type {\n",
       "        vertical-align: middle;\n",
       "    }\n",
       "\n",
       "    .dataframe tbody tr th {\n",
       "        vertical-align: top;\n",
       "    }\n",
       "\n",
       "    .dataframe thead th {\n",
       "        text-align: right;\n",
       "    }\n",
       "</style>\n",
       "<table border=\"1\" class=\"dataframe\">\n",
       "  <thead>\n",
       "    <tr style=\"text-align: right;\">\n",
       "      <th></th>\n",
       "      <th>LNR</th>\n",
       "      <th>AGER_TYP</th>\n",
       "      <th>AKT_DAT_KL</th>\n",
       "      <th>ALTER_HH</th>\n",
       "      <th>ALTER_KIND1</th>\n",
       "      <th>ALTER_KIND2</th>\n",
       "      <th>ALTER_KIND3</th>\n",
       "      <th>ALTER_KIND4</th>\n",
       "      <th>ALTERSKATEGORIE_FEIN</th>\n",
       "      <th>ANZ_HAUSHALTE_AKTIV</th>\n",
       "      <th>...</th>\n",
       "      <th>VK_DHT4A</th>\n",
       "      <th>VK_DISTANZ</th>\n",
       "      <th>VK_ZG11</th>\n",
       "      <th>W_KEIT_KIND_HH</th>\n",
       "      <th>WOHNDAUER_2008</th>\n",
       "      <th>WOHNLAGE</th>\n",
       "      <th>ZABEOTYP</th>\n",
       "      <th>RESPONSE</th>\n",
       "      <th>ANREDE_KZ</th>\n",
       "      <th>ALTERSKATEGORIE_GROB</th>\n",
       "    </tr>\n",
       "  </thead>\n",
       "  <tbody>\n",
       "    <tr>\n",
       "      <th>0</th>\n",
       "      <td>1763</td>\n",
       "      <td>2</td>\n",
       "      <td>1.0</td>\n",
       "      <td>8.0</td>\n",
       "      <td>NaN</td>\n",
       "      <td>NaN</td>\n",
       "      <td>NaN</td>\n",
       "      <td>NaN</td>\n",
       "      <td>8.0</td>\n",
       "      <td>15.0</td>\n",
       "      <td>...</td>\n",
       "      <td>5.0</td>\n",
       "      <td>2.0</td>\n",
       "      <td>1.0</td>\n",
       "      <td>6.0</td>\n",
       "      <td>9.0</td>\n",
       "      <td>3.0</td>\n",
       "      <td>3</td>\n",
       "      <td>0</td>\n",
       "      <td>2</td>\n",
       "      <td>4</td>\n",
       "    </tr>\n",
       "    <tr>\n",
       "      <th>1</th>\n",
       "      <td>1771</td>\n",
       "      <td>1</td>\n",
       "      <td>4.0</td>\n",
       "      <td>13.0</td>\n",
       "      <td>NaN</td>\n",
       "      <td>NaN</td>\n",
       "      <td>NaN</td>\n",
       "      <td>NaN</td>\n",
       "      <td>13.0</td>\n",
       "      <td>1.0</td>\n",
       "      <td>...</td>\n",
       "      <td>1.0</td>\n",
       "      <td>2.0</td>\n",
       "      <td>1.0</td>\n",
       "      <td>4.0</td>\n",
       "      <td>9.0</td>\n",
       "      <td>7.0</td>\n",
       "      <td>1</td>\n",
       "      <td>0</td>\n",
       "      <td>2</td>\n",
       "      <td>3</td>\n",
       "    </tr>\n",
       "    <tr>\n",
       "      <th>2</th>\n",
       "      <td>1776</td>\n",
       "      <td>1</td>\n",
       "      <td>1.0</td>\n",
       "      <td>9.0</td>\n",
       "      <td>NaN</td>\n",
       "      <td>NaN</td>\n",
       "      <td>NaN</td>\n",
       "      <td>NaN</td>\n",
       "      <td>7.0</td>\n",
       "      <td>0.0</td>\n",
       "      <td>...</td>\n",
       "      <td>6.0</td>\n",
       "      <td>4.0</td>\n",
       "      <td>2.0</td>\n",
       "      <td>NaN</td>\n",
       "      <td>9.0</td>\n",
       "      <td>2.0</td>\n",
       "      <td>3</td>\n",
       "      <td>0</td>\n",
       "      <td>1</td>\n",
       "      <td>4</td>\n",
       "    </tr>\n",
       "    <tr>\n",
       "      <th>3</th>\n",
       "      <td>1460</td>\n",
       "      <td>2</td>\n",
       "      <td>1.0</td>\n",
       "      <td>6.0</td>\n",
       "      <td>NaN</td>\n",
       "      <td>NaN</td>\n",
       "      <td>NaN</td>\n",
       "      <td>NaN</td>\n",
       "      <td>6.0</td>\n",
       "      <td>4.0</td>\n",
       "      <td>...</td>\n",
       "      <td>8.0</td>\n",
       "      <td>11.0</td>\n",
       "      <td>11.0</td>\n",
       "      <td>6.0</td>\n",
       "      <td>9.0</td>\n",
       "      <td>1.0</td>\n",
       "      <td>3</td>\n",
       "      <td>0</td>\n",
       "      <td>2</td>\n",
       "      <td>4</td>\n",
       "    </tr>\n",
       "    <tr>\n",
       "      <th>4</th>\n",
       "      <td>1783</td>\n",
       "      <td>2</td>\n",
       "      <td>1.0</td>\n",
       "      <td>9.0</td>\n",
       "      <td>NaN</td>\n",
       "      <td>NaN</td>\n",
       "      <td>NaN</td>\n",
       "      <td>NaN</td>\n",
       "      <td>9.0</td>\n",
       "      <td>53.0</td>\n",
       "      <td>...</td>\n",
       "      <td>2.0</td>\n",
       "      <td>2.0</td>\n",
       "      <td>1.0</td>\n",
       "      <td>6.0</td>\n",
       "      <td>9.0</td>\n",
       "      <td>3.0</td>\n",
       "      <td>3</td>\n",
       "      <td>0</td>\n",
       "      <td>1</td>\n",
       "      <td>3</td>\n",
       "    </tr>\n",
       "  </tbody>\n",
       "</table>\n",
       "<p>5 rows × 367 columns</p>\n",
       "</div>"
      ],
      "text/plain": [
       "    LNR  AGER_TYP  AKT_DAT_KL  ALTER_HH  ALTER_KIND1  ALTER_KIND2  \\\n",
       "0  1763         2         1.0       8.0          NaN          NaN   \n",
       "1  1771         1         4.0      13.0          NaN          NaN   \n",
       "2  1776         1         1.0       9.0          NaN          NaN   \n",
       "3  1460         2         1.0       6.0          NaN          NaN   \n",
       "4  1783         2         1.0       9.0          NaN          NaN   \n",
       "\n",
       "   ALTER_KIND3  ALTER_KIND4  ALTERSKATEGORIE_FEIN  ANZ_HAUSHALTE_AKTIV  \\\n",
       "0          NaN          NaN                   8.0                 15.0   \n",
       "1          NaN          NaN                  13.0                  1.0   \n",
       "2          NaN          NaN                   7.0                  0.0   \n",
       "3          NaN          NaN                   6.0                  4.0   \n",
       "4          NaN          NaN                   9.0                 53.0   \n",
       "\n",
       "          ...           VK_DHT4A  VK_DISTANZ  VK_ZG11  W_KEIT_KIND_HH  \\\n",
       "0         ...                5.0         2.0      1.0             6.0   \n",
       "1         ...                1.0         2.0      1.0             4.0   \n",
       "2         ...                6.0         4.0      2.0             NaN   \n",
       "3         ...                8.0        11.0     11.0             6.0   \n",
       "4         ...                2.0         2.0      1.0             6.0   \n",
       "\n",
       "   WOHNDAUER_2008  WOHNLAGE  ZABEOTYP RESPONSE ANREDE_KZ ALTERSKATEGORIE_GROB  \n",
       "0             9.0       3.0         3        0         2                    4  \n",
       "1             9.0       7.0         1        0         2                    3  \n",
       "2             9.0       2.0         3        0         1                    4  \n",
       "3             9.0       1.0         3        0         2                    4  \n",
       "4             9.0       3.0         3        0         1                    3  \n",
       "\n",
       "[5 rows x 367 columns]"
      ]
     },
     "execution_count": 5,
     "metadata": {},
     "output_type": "execute_result"
    }
   ],
   "source": [
    "mailout_train.head()"
   ]
  },
  {
   "cell_type": "code",
   "execution_count": 6,
   "metadata": {},
   "outputs": [
    {
     "data": {
      "text/html": [
       "<div>\n",
       "<style scoped>\n",
       "    .dataframe tbody tr th:only-of-type {\n",
       "        vertical-align: middle;\n",
       "    }\n",
       "\n",
       "    .dataframe tbody tr th {\n",
       "        vertical-align: top;\n",
       "    }\n",
       "\n",
       "    .dataframe thead th {\n",
       "        text-align: right;\n",
       "    }\n",
       "</style>\n",
       "<table border=\"1\" class=\"dataframe\">\n",
       "  <thead>\n",
       "    <tr style=\"text-align: right;\">\n",
       "      <th></th>\n",
       "      <th>LNR</th>\n",
       "      <th>AGER_TYP</th>\n",
       "      <th>AKT_DAT_KL</th>\n",
       "      <th>ALTER_HH</th>\n",
       "      <th>ALTER_KIND1</th>\n",
       "      <th>ALTER_KIND2</th>\n",
       "      <th>ALTER_KIND3</th>\n",
       "      <th>ALTER_KIND4</th>\n",
       "      <th>ALTERSKATEGORIE_FEIN</th>\n",
       "      <th>ANZ_HAUSHALTE_AKTIV</th>\n",
       "      <th>...</th>\n",
       "      <th>VHN</th>\n",
       "      <th>VK_DHT4A</th>\n",
       "      <th>VK_DISTANZ</th>\n",
       "      <th>VK_ZG11</th>\n",
       "      <th>W_KEIT_KIND_HH</th>\n",
       "      <th>WOHNDAUER_2008</th>\n",
       "      <th>WOHNLAGE</th>\n",
       "      <th>ZABEOTYP</th>\n",
       "      <th>ANREDE_KZ</th>\n",
       "      <th>ALTERSKATEGORIE_GROB</th>\n",
       "    </tr>\n",
       "  </thead>\n",
       "  <tbody>\n",
       "    <tr>\n",
       "      <th>0</th>\n",
       "      <td>1754</td>\n",
       "      <td>2</td>\n",
       "      <td>1.0</td>\n",
       "      <td>7.0</td>\n",
       "      <td>NaN</td>\n",
       "      <td>NaN</td>\n",
       "      <td>NaN</td>\n",
       "      <td>NaN</td>\n",
       "      <td>6.0</td>\n",
       "      <td>2.0</td>\n",
       "      <td>...</td>\n",
       "      <td>4.0</td>\n",
       "      <td>5.0</td>\n",
       "      <td>6.0</td>\n",
       "      <td>3.0</td>\n",
       "      <td>6.0</td>\n",
       "      <td>9.0</td>\n",
       "      <td>3.0</td>\n",
       "      <td>3</td>\n",
       "      <td>1</td>\n",
       "      <td>4</td>\n",
       "    </tr>\n",
       "    <tr>\n",
       "      <th>1</th>\n",
       "      <td>1770</td>\n",
       "      <td>-1</td>\n",
       "      <td>1.0</td>\n",
       "      <td>0.0</td>\n",
       "      <td>NaN</td>\n",
       "      <td>NaN</td>\n",
       "      <td>NaN</td>\n",
       "      <td>NaN</td>\n",
       "      <td>0.0</td>\n",
       "      <td>20.0</td>\n",
       "      <td>...</td>\n",
       "      <td>1.0</td>\n",
       "      <td>5.0</td>\n",
       "      <td>2.0</td>\n",
       "      <td>1.0</td>\n",
       "      <td>6.0</td>\n",
       "      <td>9.0</td>\n",
       "      <td>5.0</td>\n",
       "      <td>3</td>\n",
       "      <td>1</td>\n",
       "      <td>4</td>\n",
       "    </tr>\n",
       "    <tr>\n",
       "      <th>2</th>\n",
       "      <td>1465</td>\n",
       "      <td>2</td>\n",
       "      <td>9.0</td>\n",
       "      <td>16.0</td>\n",
       "      <td>NaN</td>\n",
       "      <td>NaN</td>\n",
       "      <td>NaN</td>\n",
       "      <td>NaN</td>\n",
       "      <td>11.0</td>\n",
       "      <td>2.0</td>\n",
       "      <td>...</td>\n",
       "      <td>3.0</td>\n",
       "      <td>9.0</td>\n",
       "      <td>6.0</td>\n",
       "      <td>3.0</td>\n",
       "      <td>2.0</td>\n",
       "      <td>9.0</td>\n",
       "      <td>4.0</td>\n",
       "      <td>3</td>\n",
       "      <td>2</td>\n",
       "      <td>4</td>\n",
       "    </tr>\n",
       "    <tr>\n",
       "      <th>3</th>\n",
       "      <td>1470</td>\n",
       "      <td>-1</td>\n",
       "      <td>7.0</td>\n",
       "      <td>0.0</td>\n",
       "      <td>NaN</td>\n",
       "      <td>NaN</td>\n",
       "      <td>NaN</td>\n",
       "      <td>NaN</td>\n",
       "      <td>0.0</td>\n",
       "      <td>1.0</td>\n",
       "      <td>...</td>\n",
       "      <td>2.0</td>\n",
       "      <td>6.0</td>\n",
       "      <td>6.0</td>\n",
       "      <td>3.0</td>\n",
       "      <td>NaN</td>\n",
       "      <td>9.0</td>\n",
       "      <td>2.0</td>\n",
       "      <td>3</td>\n",
       "      <td>2</td>\n",
       "      <td>4</td>\n",
       "    </tr>\n",
       "    <tr>\n",
       "      <th>4</th>\n",
       "      <td>1478</td>\n",
       "      <td>1</td>\n",
       "      <td>1.0</td>\n",
       "      <td>21.0</td>\n",
       "      <td>NaN</td>\n",
       "      <td>NaN</td>\n",
       "      <td>NaN</td>\n",
       "      <td>NaN</td>\n",
       "      <td>13.0</td>\n",
       "      <td>1.0</td>\n",
       "      <td>...</td>\n",
       "      <td>1.0</td>\n",
       "      <td>2.0</td>\n",
       "      <td>4.0</td>\n",
       "      <td>3.0</td>\n",
       "      <td>3.0</td>\n",
       "      <td>9.0</td>\n",
       "      <td>7.0</td>\n",
       "      <td>4</td>\n",
       "      <td>2</td>\n",
       "      <td>4</td>\n",
       "    </tr>\n",
       "  </tbody>\n",
       "</table>\n",
       "<p>5 rows × 366 columns</p>\n",
       "</div>"
      ],
      "text/plain": [
       "    LNR  AGER_TYP  AKT_DAT_KL  ALTER_HH  ALTER_KIND1  ALTER_KIND2  \\\n",
       "0  1754         2         1.0       7.0          NaN          NaN   \n",
       "1  1770        -1         1.0       0.0          NaN          NaN   \n",
       "2  1465         2         9.0      16.0          NaN          NaN   \n",
       "3  1470        -1         7.0       0.0          NaN          NaN   \n",
       "4  1478         1         1.0      21.0          NaN          NaN   \n",
       "\n",
       "   ALTER_KIND3  ALTER_KIND4  ALTERSKATEGORIE_FEIN  ANZ_HAUSHALTE_AKTIV  \\\n",
       "0          NaN          NaN                   6.0                  2.0   \n",
       "1          NaN          NaN                   0.0                 20.0   \n",
       "2          NaN          NaN                  11.0                  2.0   \n",
       "3          NaN          NaN                   0.0                  1.0   \n",
       "4          NaN          NaN                  13.0                  1.0   \n",
       "\n",
       "          ...           VHN  VK_DHT4A  VK_DISTANZ  VK_ZG11  W_KEIT_KIND_HH  \\\n",
       "0         ...           4.0       5.0         6.0      3.0             6.0   \n",
       "1         ...           1.0       5.0         2.0      1.0             6.0   \n",
       "2         ...           3.0       9.0         6.0      3.0             2.0   \n",
       "3         ...           2.0       6.0         6.0      3.0             NaN   \n",
       "4         ...           1.0       2.0         4.0      3.0             3.0   \n",
       "\n",
       "   WOHNDAUER_2008  WOHNLAGE ZABEOTYP ANREDE_KZ ALTERSKATEGORIE_GROB  \n",
       "0             9.0       3.0        3         1                    4  \n",
       "1             9.0       5.0        3         1                    4  \n",
       "2             9.0       4.0        3         2                    4  \n",
       "3             9.0       2.0        3         2                    4  \n",
       "4             9.0       7.0        4         2                    4  \n",
       "\n",
       "[5 rows x 366 columns]"
      ]
     },
     "execution_count": 6,
     "metadata": {},
     "output_type": "execute_result"
    }
   ],
   "source": [
    "mailout_test.head()"
   ]
  },
  {
   "cell_type": "code",
   "execution_count": 43,
   "metadata": {},
   "outputs": [],
   "source": [
    "# Get y_train from training data\n",
    "y_reg = mailout_train['RESPONSE']\n",
    "del mailout_train['RESPONSE']\n",
    "len_train, len_test = len(mailout_train), len(mailout_test)\n",
    "# Concat train and test data\n",
    "df_svl = pd.concat([mailout_train, mailout_test])"
   ]
  },
  {
   "cell_type": "code",
   "execution_count": 44,
   "metadata": {},
   "outputs": [
    {
     "data": {
      "text/plain": [
       "0    42430\n",
       "1      532\n",
       "Name: RESPONSE, dtype: int64"
      ]
     },
     "execution_count": 44,
     "metadata": {},
     "output_type": "execute_result"
    }
   ],
   "source": [
    "y_reg.value_counts()"
   ]
  },
  {
   "cell_type": "code",
   "execution_count": 45,
   "metadata": {},
   "outputs": [
    {
     "data": {
      "text/plain": [
       "(85795, 366)"
      ]
     },
     "execution_count": 45,
     "metadata": {},
     "output_type": "execute_result"
    }
   ],
   "source": [
    "df_svl.shape"
   ]
  },
  {
   "cell_type": "markdown",
   "metadata": {},
   "source": [
    "From the value counts of \"response\" labels, we can see the dataset is highly imbalanced, with only around 1% of the total dataset are labeled as positive. Therefore the StratifiedKFold method is applied to handle this issue.  "
   ]
  },
  {
   "cell_type": "markdown",
   "metadata": {},
   "source": [
    "### Part 2.1 Cleaning Data in Supervised Learning"
   ]
  },
  {
   "cell_type": "code",
   "execution_count": 19,
   "metadata": {},
   "outputs": [],
   "source": [
    "for idx, col in enumerate(feat_unknown['Attribute']):\n",
    "        item_to_change = extract_num(feat_unknown['Value'][idx])\n",
    "        if col in df_svl.columns.tolist():\n",
    "            #print(idx, col, item_to_change)\n",
    "            df_svl[col].replace(item_to_change, np.nan, inplace=True)"
   ]
  },
  {
   "cell_type": "code",
   "execution_count": 20,
   "metadata": {},
   "outputs": [
    {
     "name": "stdout",
     "output_type": "stream",
     "text": [
      "AGER_TYP                     41.913864\n",
      "ALTER_HH                     30.780349\n",
      "ALTER_KIND1                  95.336558\n",
      "ALTER_KIND2                  98.230666\n",
      "ALTER_KIND3                  99.562912\n",
      "ALTER_KIND4                  99.906754\n",
      "D19_BANKEN_ANZ_12            93.540416\n",
      "D19_BANKEN_ANZ_24            90.068186\n",
      "D19_BANKEN_DATUM             78.709715\n",
      "D19_BANKEN_OFFLINE_DATUM     95.940323\n",
      "D19_BANKEN_ONLINE_DATUM      85.834839\n",
      "D19_GESAMT_ANZ_12            58.755172\n",
      "D19_GESAMT_ANZ_24            48.063407\n",
      "D19_GESAMT_DATUM             27.972493\n",
      "D19_GESAMT_OFFLINE_DATUM     41.799639\n",
      "D19_GESAMT_ONLINE_DATUM      46.201993\n",
      "D19_TELKO_ANZ_12             95.750335\n",
      "D19_TELKO_ANZ_24             92.519378\n",
      "D19_TELKO_DATUM              78.056996\n",
      "D19_TELKO_ONLINE_DATUM       98.893875\n",
      "D19_VERSAND_ANZ_12           64.379043\n",
      "D19_VERSAND_ANZ_24           54.272393\n",
      "D19_VERSAND_DATUM            34.391282\n",
      "D19_VERSAND_OFFLINE_DATUM    46.239291\n",
      "D19_VERSAND_ONLINE_DATUM     50.785011\n",
      "D19_VERSI_ANZ_12             92.006527\n",
      "D19_VERSI_ANZ_24             87.318608\n",
      "EXTSEL992                    37.014978\n",
      "HH_DELTA_FLAG                22.491987\n",
      "KBA05_ALTER1                 20.907978\n",
      "                               ...    \n",
      "KBA05_MOD1                   20.907978\n",
      "KBA05_MOD2                   20.907978\n",
      "KBA05_MOD3                   20.907978\n",
      "KBA05_MOD4                   20.907978\n",
      "KBA05_MOD8                   20.907978\n",
      "KBA05_MOTOR                  20.907978\n",
      "KBA05_MOTRAD                 20.824057\n",
      "KBA05_SEG1                   20.907978\n",
      "KBA05_SEG10                  20.907978\n",
      "KBA05_SEG2                   20.907978\n",
      "KBA05_SEG3                   20.907978\n",
      "KBA05_SEG4                   20.907978\n",
      "KBA05_SEG5                   20.907978\n",
      "KBA05_SEG6                   20.907978\n",
      "KBA05_SEG7                   20.907978\n",
      "KBA05_SEG8                   20.907978\n",
      "KBA05_SEG9                   20.907978\n",
      "KBA05_VORB0                  20.907978\n",
      "KBA05_VORB1                  20.907978\n",
      "KBA05_VORB2                  20.907978\n",
      "KBA05_ZUL1                   20.907978\n",
      "KBA05_ZUL2                   20.907978\n",
      "KBA05_ZUL3                   20.907978\n",
      "KBA05_ZUL4                   20.907978\n",
      "KK_KUNDENTYP                 58.687569\n",
      "KKK                          23.045632\n",
      "MOBI_REGIO                   20.030305\n",
      "REGIOTYP                     23.045632\n",
      "TITEL_KZ                     99.465004\n",
      "W_KEIT_KIND_HH               24.182062\n",
      "Length: 98, dtype: float64\n"
     ]
    }
   ],
   "source": [
    "df_percent_null_count = (df_svl.isnull().sum()/len(df_svl))*100\n",
    "df_percent_missing_over20 = df_percent_null_count[df_percent_null_count>20]\n",
    "print(df_percent_missing_over20)"
   ]
  },
  {
   "cell_type": "code",
   "execution_count": 47,
   "metadata": {},
   "outputs": [
    {
     "data": {
      "text/plain": [
       "(85795, 310)"
      ]
     },
     "execution_count": 47,
     "metadata": {},
     "output_type": "execute_result"
    }
   ],
   "source": [
    "# clean_data_svl(df) function is imported from workspace_utils\n",
    "df_svl_cleaned = clean_data_svl(df_svl)\n",
    "df_svl_cleaned.shape"
   ]
  },
  {
   "cell_type": "code",
   "execution_count": 48,
   "metadata": {},
   "outputs": [],
   "source": [
    "imputer = Imputer(missing_values='NaN', strategy='median', axis=0)\n",
    "df_svl_impute = imputer.fit_transform(df_svl_cleaned)"
   ]
  },
  {
   "cell_type": "code",
   "execution_count": 49,
   "metadata": {},
   "outputs": [],
   "source": [
    "scaler = StandardScaler()\n",
    "df_svl_scaler = scaler.fit_transform(df_svl_impute)"
   ]
  },
  {
   "cell_type": "markdown",
   "metadata": {},
   "source": [
    "### Part 2.3: Training with Classfication Method"
   ]
  },
  {
   "cell_type": "code",
   "execution_count": 50,
   "metadata": {},
   "outputs": [],
   "source": [
    "# Split the dataset to train and test\n",
    "train_data = df_svl_scaler[:len_train]\n",
    "test_data = df_svl_scaler[len_train:]"
   ]
  },
  {
   "cell_type": "code",
   "execution_count": 51,
   "metadata": {},
   "outputs": [],
   "source": [
    "# Split the dataset into Train Test dataset, Strafity is selected for y_train\n",
    "X_train, X_test, y_train, y_test = train_test_split(train_data, y_reg, stratify=y_reg, test_size=0.2)"
   ]
  },
  {
   "cell_type": "code",
   "execution_count": 52,
   "metadata": {},
   "outputs": [
    {
     "data": {
      "text/plain": [
       "(34369,)"
      ]
     },
     "execution_count": 52,
     "metadata": {},
     "output_type": "execute_result"
    }
   ],
   "source": [
    "print(X_train.shape)\n",
    "print(y_train.shape)"
   ]
  },
  {
   "cell_type": "code",
   "execution_count": 53,
   "metadata": {},
   "outputs": [],
   "source": [
    "def grid_search(clf, param_grid, X_train=X_train, y_train=y_train):\n",
    "    \"\"\"\n",
    "    Fits a classifier to its training data and prints its ROC AUC score.\n",
    "    \n",
    "    INPUT:\n",
    "    - clf (classifier): classifier to fit\n",
    "    - param_grid (dict): classifier parameters used with GridSearchCV\n",
    "    - X_train (DataFrame): training input\n",
    "    - y_train (DataFrame): training output\n",
    "            \n",
    "    OUTPUT:\n",
    "    - classifier: input classifier fitted to the training data\n",
    "    \"\"\"\n",
    "    \n",
    "    # cv uses StratifiedKFold\n",
    "    # scoring roc_auc available as parameter\n",
    "    grid = GridSearchCV(estimator=clf, param_grid=param_grid, scoring='roc_auc', cv=5)\n",
    "    grid.fit(X_train, y_train)\n",
    "    print(grid.best_score_)\n",
    "    \n",
    "    return grid.best_estimator_"
   ]
  },
  {
   "cell_type": "code",
   "execution_count": 54,
   "metadata": {},
   "outputs": [
    {
     "name": "stdout",
     "output_type": "stream",
     "text": [
      "0.514747419649\n"
     ]
    },
    {
     "data": {
      "text/plain": [
       "RandomForestClassifier(bootstrap=True, class_weight=None, criterion='gini',\n",
       "            max_depth=None, max_features='auto', max_leaf_nodes=None,\n",
       "            min_impurity_decrease=0.0, min_impurity_split=None,\n",
       "            min_samples_leaf=1, min_samples_split=2,\n",
       "            min_weight_fraction_leaf=0.0, n_estimators=10, n_jobs=1,\n",
       "            oob_score=False, random_state=None, verbose=0,\n",
       "            warm_start=False)"
      ]
     },
     "execution_count": 54,
     "metadata": {},
     "output_type": "execute_result"
    }
   ],
   "source": [
    "# use default values\n",
    "clf_rf = RandomForestClassifier(random_state=5)\n",
    "grid_search(clf_rf, {})"
   ]
  },
  {
   "cell_type": "code",
   "execution_count": 55,
   "metadata": {},
   "outputs": [
    {
     "name": "stdout",
     "output_type": "stream",
     "text": [
      "0.746349723297\n"
     ]
    },
    {
     "data": {
      "text/plain": [
       "GradientBoostingClassifier(criterion='friedman_mse', init=None,\n",
       "              learning_rate=0.1, loss='deviance', max_depth=3,\n",
       "              max_features=None, max_leaf_nodes=None,\n",
       "              min_impurity_decrease=0.0, min_impurity_split=None,\n",
       "              min_samples_leaf=1, min_samples_split=2,\n",
       "              min_weight_fraction_leaf=0.0, n_estimators=100,\n",
       "              presort='auto', random_state=None, subsample=1.0, verbose=0,\n",
       "              warm_start=False)"
      ]
     },
     "execution_count": 55,
     "metadata": {},
     "output_type": "execute_result"
    }
   ],
   "source": [
    "clf_gb = GradientBoostingClassifier(random_state=5)\n",
    "grid_search(clf_gb, {})"
   ]
  },
  {
   "cell_type": "code",
   "execution_count": 58,
   "metadata": {
    "scrolled": true
   },
   "outputs": [
    {
     "name": "stdout",
     "output_type": "stream",
     "text": [
      "0.754647560907\n"
     ]
    },
    {
     "data": {
      "text/plain": [
       "XGBClassifier(base_score=0.5, booster='gbtree', colsample_bylevel=1,\n",
       "       colsample_bynode=1, colsample_bytree=1, gamma=0, learning_rate=0.1,\n",
       "       max_delta_step=0, max_depth=3, min_child_weight=1, missing=None,\n",
       "       n_estimators=100, n_jobs=1, nthread=None,\n",
       "       objective='binary:logistic', random_state=0, reg_alpha=0,\n",
       "       reg_lambda=1, scale_pos_weight=1, seed=None, silent=None,\n",
       "       subsample=1, verbosity=1)"
      ]
     },
     "execution_count": 58,
     "metadata": {},
     "output_type": "execute_result"
    }
   ],
   "source": [
    "clf_xgb = xgb.XGBClassifier(random_state=5)\n",
    "grid_search(clf_xgb, {})"
   ]
  },
  {
   "cell_type": "code",
   "execution_count": 64,
   "metadata": {},
   "outputs": [
    {
     "name": "stdout",
     "output_type": "stream",
     "text": [
      "0.756223515495\n"
     ]
    }
   ],
   "source": [
    "# use default values\n",
    "clf = xgb.XGBClassifier(random_state=5)\n",
    "# use gridsearch to find best fitted model of XGBoost\n",
    "parameters = {'eta': [0.001, 0.01, 0.1],\n",
    "              'max_depth': [3, 5, 10],\n",
    "              'min_child_weight' : [1, 3, 5]\n",
    "             }\n",
    "\n",
    "\n",
    "with active_session():\n",
    "    best_predicer = grid_search(clf, parameters, X_train, y_train)"
   ]
  },
  {
   "cell_type": "code",
   "execution_count": 65,
   "metadata": {},
   "outputs": [
    {
     "data": {
      "text/plain": [
       "XGBClassifier(base_score=0.5, booster='gbtree', colsample_bylevel=1,\n",
       "       colsample_bynode=1, colsample_bytree=1, eta=0.001, gamma=0,\n",
       "       learning_rate=0.1, max_delta_step=0, max_depth=3,\n",
       "       min_child_weight=5, missing=None, n_estimators=100, n_jobs=1,\n",
       "       nthread=None, objective='binary:logistic', random_state=5,\n",
       "       reg_alpha=0, reg_lambda=1, scale_pos_weight=1, seed=None,\n",
       "       silent=None, subsample=1, verbosity=1)"
      ]
     },
     "execution_count": 65,
     "metadata": {},
     "output_type": "execute_result"
    }
   ],
   "source": [
    "best_predicter"
   ]
  },
  {
   "cell_type": "markdown",
   "metadata": {},
   "source": [
    "## Part 3: Kaggle Competition\n",
    "\n",
    "Now that you've created a model to predict which individuals are most likely to respond to a mailout campaign, it's time to test that model in competition through Kaggle. If you click on the link [here](http://www.kaggle.com/t/21e6d45d4c574c7fa2d868f0e8c83140), you'll be taken to the competition page where, if you have a Kaggle account, you can enter. If you're one of the top performers, you may have the chance to be contacted by a hiring manager from Arvato or Bertelsmann for an interview!\n",
    "\n",
    "Your entry to the competition should be a CSV file with two columns. The first column should be a copy of \"LNR\", which acts as an ID number for each individual in the \"TEST\" partition. The second column, \"RESPONSE\", should be some measure of how likely each individual became a customer – this might not be a straightforward probability. As you should have found in Part 2, there is a large output class imbalance, where most individuals did not respond to the mailout. Thus, predicting individual classes and using accuracy does not seem to be an appropriate performance evaluation method. Instead, the competition will be using AUC to evaluate performance. The exact values of the \"RESPONSE\" column do not matter as much: only that the higher values try to capture as many of the actual customers as possible, early in the ROC curve sweep."
   ]
  },
  {
   "cell_type": "code",
   "execution_count": 66,
   "metadata": {},
   "outputs": [
    {
     "name": "stderr",
     "output_type": "stream",
     "text": [
      "/opt/conda/lib/python3.6/site-packages/IPython/core/interactiveshell.py:2785: DtypeWarning: Columns (18,19) have mixed types. Specify dtype option on import or set low_memory=False.\n",
      "  interactivity=interactivity, compiler=compiler, result=result)\n"
     ]
    }
   ],
   "source": [
    "mailout_test = pd.read_csv('../../data/Term2/capstone/arvato_data/Udacity_MAILOUT_052018_TEST.csv', sep=';')"
   ]
  },
  {
   "cell_type": "code",
   "execution_count": 67,
   "metadata": {},
   "outputs": [],
   "source": [
    "lnr = mailout_test['LNR']"
   ]
  },
  {
   "cell_type": "code",
   "execution_count": 74,
   "metadata": {},
   "outputs": [
    {
     "data": {
      "text/plain": [
       "array([[ 0.95302236,  0.04697763],\n",
       "       [ 0.97343582,  0.0265642 ],\n",
       "       [ 0.99681139,  0.00318863],\n",
       "       ..., \n",
       "       [ 0.96880317,  0.03119683],\n",
       "       [ 0.97627062,  0.02372936],\n",
       "       [ 0.98215175,  0.01784823]], dtype=float32)"
      ]
     },
     "execution_count": 74,
     "metadata": {},
     "output_type": "execute_result"
    }
   ],
   "source": [
    "results = best_predicer.predict_proba(test_data)\n",
    "results"
   ]
  },
  {
   "cell_type": "code",
   "execution_count": 71,
   "metadata": {},
   "outputs": [],
   "source": [
    "output_result = pd.DataFrame({'LNR':lnr, 'RESPONSE':results[:,0]})"
   ]
  },
  {
   "cell_type": "code",
   "execution_count": null,
   "metadata": {},
   "outputs": [],
   "source": [
    "output_result.head(10)"
   ]
  },
  {
   "cell_type": "code",
   "execution_count": 73,
   "metadata": {},
   "outputs": [],
   "source": [
    "output_result.to_csv(path_or_buf='./result.csv', index=False)"
   ]
  },
  {
   "cell_type": "code",
   "execution_count": 10,
   "metadata": {},
   "outputs": [
    {
     "data": {
      "image/png": "[encoded data removed]",
      "text/plain": [
       "<IPython.core.display.Image object>"
      ]
     },
     "execution_count": 10,
     "metadata": {},
     "output_type": "execute_result"
    }
   ],
   "source": [
    "from IPython.display import Image\n",
    "Image('KaggleResults.PNG')"
   ]
  }
 ],
 "metadata": {
  "kernelspec": {
   "display_name": "Python 3",
   "language": "python",
   "name": "python3"
  },
  "language_info": {
   "codemirror_mode": {
    "name": "ipython",
    "version": 3
   },
   "file_extension": ".py",
   "mimetype": "text/x-python",
   "name": "python",
   "nbconvert_exporter": "python",
   "pygments_lexer": "ipython3",
   "version": "3.6.3"
  }
 },
 "nbformat": 4,
 "nbformat_minor": 2
}
